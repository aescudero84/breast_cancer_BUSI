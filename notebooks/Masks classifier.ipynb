{
 "cells": [
  {
   "cell_type": "code",
   "execution_count": 1,
   "id": "3b963077",
   "metadata": {
    "ExecuteTime": {
     "end_time": "2023-12-11T20:19:43.784586Z",
     "start_time": "2023-12-11T20:19:43.184215Z"
    }
   },
   "outputs": [],
   "source": [
    "import torch\n",
    "import torch.nn as nn\n",
    "import torch.optim as optim\n",
    "from torchvision import datasets, transforms\n",
    "from torch.utils.data import DataLoader"
   ]
  },
  {
   "cell_type": "code",
   "execution_count": 2,
   "id": "f3f9d17a",
   "metadata": {
    "ExecuteTime": {
     "end_time": "2023-12-11T20:19:44.118926Z",
     "start_time": "2023-12-11T20:19:44.115611Z"
    }
   },
   "outputs": [],
   "source": [
    "# Define transformaciones para preprocesar las imágenes\n",
    "transform = transforms.Compose([\n",
    "    transforms.Resize((128, 128)),  # Redimensionar las imágenes a un tamaño específico\n",
    "    transforms.Grayscale(num_output_channels=1),\n",
    "    transforms.RandomHorizontalFlip(),\n",
    "    transforms.RandomRotation(degrees=np.random.choice(range(0, 360))), \n",
    "    transforms.ToTensor(),          # Convertir las imágenes a tensores\n",
    "    transforms.Normalize(0.5, 0.5)  # Normalizar los valores de píxeles\n",
    "])\n"
   ]
  },
  {
   "cell_type": "code",
   "execution_count": 3,
   "id": "98b64501",
   "metadata": {
    "ExecuteTime": {
     "end_time": "2023-12-11T20:19:44.951132Z",
     "start_time": "2023-12-11T20:19:44.947405Z"
    }
   },
   "outputs": [],
   "source": [
    "# Directorio que contiene los datos de entrenamiento y validación\n",
    "train_dir = '/home/carlos/Documentos/proyectos/breast_cancer/Datasets/prueba_class_masks/train/'\n",
    "val_dir = '/home/carlos/Documentos/proyectos/breast_cancer/Datasets/prueba_class_masks/val/'\n",
    "\n",
    "# Crear datasets para entrenamiento y validación\n",
    "train_data = datasets.ImageFolder(train_dir, transform=transform)\n",
    "val_data = datasets.ImageFolder(val_dir, transform=transform)\n",
    "\n",
    "# Crear dataloaders para cargar los datos\n",
    "train_loader = DataLoader(train_data, batch_size=16, shuffle=True)\n",
    "val_loader = DataLoader(val_data, batch_size=16)"
   ]
  },
  {
   "cell_type": "code",
   "execution_count": 19,
   "id": "83699691",
   "metadata": {
    "ExecuteTime": {
     "end_time": "2023-12-11T20:22:58.272984Z",
     "start_time": "2023-12-11T20:22:58.169505Z"
    }
   },
   "outputs": [],
   "source": [
    "\n",
    "# Definir una red neuronal convolucional simple\n",
    "class SimpleCNN(nn.Module):\n",
    "    def __init__(self):\n",
    "        super(SimpleCNN, self).__init__()\n",
    "        self.conv1 = nn.Conv2d(1, 4, 3, padding=1)\n",
    "        self.conv2 = nn.Conv2d(4, 8, 3, padding=1)\n",
    "        self.pool = nn.MaxPool2d(2, 2)\n",
    "        self.drop = nn.Dropout(.4)\n",
    "        self.flat = nn.Flatten()\n",
    "        self.fc1 = nn.Linear(8 * 128 * 128, 256)\n",
    "        self.fc2 = nn.Linear(256, 128)\n",
    "        self.fc3 = nn.Linear(128, 16)\n",
    "        self.fcout = nn.Linear(16, 3) \n",
    "\n",
    "    def forward(self, x):\n",
    "        x = torch.relu(self.conv1(x))\n",
    "        x = torch.relu(self.conv2(x))\n",
    "#         x = x.view(-1, 16 * 16 * 16)\n",
    "        x = self.flat(x)\n",
    "        x = self.drop(torch.relu(self.fc1(x)))\n",
    "        x = self.drop(torch.relu(self.fc2(x)))\n",
    "        x = self.drop(torch.relu(self.fc3(x)))\n",
    "        x = self.fcout(x)\n",
    "        return x\n",
    "\n",
    "# Crear una instancia del modelo\n",
    "model = SimpleCNN()\n",
    "\n",
    "# Definir la función de pérdida y el optimizador\n",
    "criterion = nn.CrossEntropyLoss()\n",
    "optimizer = optim.Adam(model.parameters(), lr=0.001)\n"
   ]
  },
  {
   "cell_type": "code",
   "execution_count": 20,
   "id": "54357548",
   "metadata": {
    "ExecuteTime": {
     "end_time": "2023-12-11T20:23:22.896232Z",
     "start_time": "2023-12-11T20:22:58.699443Z"
    }
   },
   "outputs": [
    {
     "name": "stdout",
     "output_type": "stream",
     "text": [
      "Epoch 1 Train Loss: 1.3497 Validation Loss: 1.0841, Train accuracy: 36.11%  Val accuracy: 37.78%\n",
      "Epoch 2 Train Loss: 1.0269 Validation Loss: 1.0569, Train accuracy: 43.33%  Val accuracy: 46.67%\n",
      "Epoch 3 Train Loss: 1.0476 Validation Loss: 1.0243, Train accuracy: 40.56%  Val accuracy: 56.67%\n",
      "Epoch 4 Train Loss: 1.0070 Validation Loss: 1.0364, Train accuracy: 42.22%  Val accuracy: 56.67%\n",
      "Epoch 5 Train Loss: 0.9887 Validation Loss: 1.0139, Train accuracy: 51.11%  Val accuracy: 61.11%\n",
      "Epoch 6 Train Loss: 0.9973 Validation Loss: 0.9973, Train accuracy: 49.72%  Val accuracy: 62.22%\n",
      "Epoch 7 Train Loss: 0.9787 Validation Loss: 1.0042, Train accuracy: 52.50%  Val accuracy: 60.00%\n",
      "Epoch 8 Train Loss: 0.9497 Validation Loss: 1.0114, Train accuracy: 56.94%  Val accuracy: 62.22%\n",
      "Epoch 9 Train Loss: 0.9813 Validation Loss: 1.0162, Train accuracy: 54.17%  Val accuracy: 46.67%\n",
      "Epoch 10 Train Loss: 0.9731 Validation Loss: 1.0035, Train accuracy: 53.89%  Val accuracy: 60.00%\n",
      "Epoch 11 Train Loss: 0.9616 Validation Loss: 0.9837, Train accuracy: 54.72%  Val accuracy: 57.78%\n",
      "Epoch 12 Train Loss: 0.9107 Validation Loss: 1.0405, Train accuracy: 58.61%  Val accuracy: 52.22%\n",
      "Epoch 13 Train Loss: 0.9833 Validation Loss: 0.9934, Train accuracy: 52.50%  Val accuracy: 56.67%\n",
      "Epoch 14 Train Loss: 0.9197 Validation Loss: 1.0216, Train accuracy: 55.00%  Val accuracy: 55.56%\n",
      "Epoch 15 Train Loss: 0.9567 Validation Loss: 0.9996, Train accuracy: 60.56%  Val accuracy: 54.44%\n",
      "Epoch 16 Train Loss: 0.9164 Validation Loss: 1.0150, Train accuracy: 57.50%  Val accuracy: 55.56%\n",
      "Epoch 17 Train Loss: 0.9612 Validation Loss: 0.9948, Train accuracy: 56.11%  Val accuracy: 60.00%\n",
      "Epoch 18 Train Loss: 0.9224 Validation Loss: 1.0438, Train accuracy: 57.22%  Val accuracy: 54.44%\n",
      "Epoch 19 Train Loss: 0.9350 Validation Loss: 1.0255, Train accuracy: 55.56%  Val accuracy: 53.33%\n",
      "Epoch 20 Train Loss: 0.9442 Validation Loss: 1.0052, Train accuracy: 56.39%  Val accuracy: 52.22%\n",
      "Epoch 21 Train Loss: 0.9150 Validation Loss: 1.0066, Train accuracy: 56.67%  Val accuracy: 55.56%\n",
      "Epoch 22 Train Loss: 0.9205 Validation Loss: 0.9970, Train accuracy: 58.06%  Val accuracy: 54.44%\n",
      "Epoch 23 Train Loss: 0.9231 Validation Loss: 0.9893, Train accuracy: 57.78%  Val accuracy: 55.56%\n",
      "Epoch 24 Train Loss: 0.9019 Validation Loss: 1.0223, Train accuracy: 58.89%  Val accuracy: 56.67%\n",
      "Epoch 25 Train Loss: 0.9094 Validation Loss: 1.0286, Train accuracy: 60.56%  Val accuracy: 55.56%\n",
      "Epoch 26 Train Loss: 0.9057 Validation Loss: 0.9790, Train accuracy: 61.11%  Val accuracy: 58.89%\n",
      "Epoch 27 Train Loss: 0.9019 Validation Loss: 0.9985, Train accuracy: 57.50%  Val accuracy: 48.89%\n",
      "Epoch 28 Train Loss: 0.8944 Validation Loss: 1.0112, Train accuracy: 60.56%  Val accuracy: 50.00%\n",
      "Epoch 29 Train Loss: 0.8652 Validation Loss: 0.9758, Train accuracy: 60.28%  Val accuracy: 47.78%\n",
      "Epoch 30 Train Loss: 0.8796 Validation Loss: 0.9808, Train accuracy: 58.89%  Val accuracy: 48.89%\n",
      "Epoch 31 Train Loss: 0.9068 Validation Loss: 0.9975, Train accuracy: 55.83%  Val accuracy: 53.33%\n",
      "Epoch 32 Train Loss: 0.8787 Validation Loss: 0.9886, Train accuracy: 63.61%  Val accuracy: 52.22%\n",
      "Epoch 33 Train Loss: 0.8743 Validation Loss: 0.9508, Train accuracy: 58.33%  Val accuracy: 55.56%\n",
      "Epoch 34 Train Loss: 0.8426 Validation Loss: 0.9994, Train accuracy: 59.44%  Val accuracy: 52.22%\n",
      "Epoch 35 Train Loss: 0.9026 Validation Loss: 0.9596, Train accuracy: 58.89%  Val accuracy: 55.56%\n",
      "Epoch 36 Train Loss: 0.8622 Validation Loss: 0.9456, Train accuracy: 61.67%  Val accuracy: 58.89%\n",
      "Epoch 37 Train Loss: 0.8719 Validation Loss: 0.9545, Train accuracy: 58.33%  Val accuracy: 60.00%\n",
      "Epoch 38 Train Loss: 0.8657 Validation Loss: 0.8812, Train accuracy: 59.17%  Val accuracy: 64.44%\n",
      "Epoch 39 Train Loss: 0.8615 Validation Loss: 0.9202, Train accuracy: 61.11%  Val accuracy: 63.33%\n",
      "Epoch 40 Train Loss: 0.8133 Validation Loss: 0.9528, Train accuracy: 63.06%  Val accuracy: 62.22%\n",
      "Epoch 41 Train Loss: 0.8358 Validation Loss: 0.9229, Train accuracy: 63.61%  Val accuracy: 60.00%\n",
      "Epoch 42 Train Loss: 0.8293 Validation Loss: 0.9015, Train accuracy: 63.89%  Val accuracy: 67.78%\n",
      "Epoch 43 Train Loss: 0.8428 Validation Loss: 0.8968, Train accuracy: 65.00%  Val accuracy: 64.44%\n",
      "Epoch 44 Train Loss: 0.8123 Validation Loss: 0.8758, Train accuracy: 63.89%  Val accuracy: 65.56%\n",
      "Epoch 45 Train Loss: 0.8229 Validation Loss: 0.8810, Train accuracy: 61.67%  Val accuracy: 64.44%\n",
      "Epoch 46 Train Loss: 0.8360 Validation Loss: 0.8654, Train accuracy: 62.78%  Val accuracy: 64.44%\n",
      "Epoch 47 Train Loss: 0.7958 Validation Loss: 0.8884, Train accuracy: 64.44%  Val accuracy: 63.33%\n",
      "Epoch 48 Train Loss: 0.8231 Validation Loss: 0.8647, Train accuracy: 62.22%  Val accuracy: 65.56%\n",
      "Epoch 49 Train Loss: 0.7959 Validation Loss: 0.8605, Train accuracy: 64.72%  Val accuracy: 66.67%\n",
      "Epoch 50 Train Loss: 0.7798 Validation Loss: 0.8652, Train accuracy: 67.50%  Val accuracy: 63.33%\n",
      "Epoch 51 Train Loss: 0.7948 Validation Loss: 0.8587, Train accuracy: 65.56%  Val accuracy: 64.44%\n",
      "Epoch 52 Train Loss: 0.8117 Validation Loss: 0.9167, Train accuracy: 64.44%  Val accuracy: 64.44%\n",
      "Epoch 53 Train Loss: 0.7951 Validation Loss: 0.8938, Train accuracy: 64.44%  Val accuracy: 66.67%\n",
      "Epoch 54 Train Loss: 0.7821 Validation Loss: 0.9375, Train accuracy: 65.56%  Val accuracy: 63.33%\n",
      "Epoch 55 Train Loss: 0.7741 Validation Loss: 0.9689, Train accuracy: 67.78%  Val accuracy: 63.33%\n",
      "Epoch 56 Train Loss: 0.7696 Validation Loss: 0.9079, Train accuracy: 66.94%  Val accuracy: 63.33%\n",
      "Epoch 57 Train Loss: 0.7703 Validation Loss: 0.8691, Train accuracy: 66.94%  Val accuracy: 62.22%\n",
      "Epoch 58 Train Loss: 0.7742 Validation Loss: 0.8760, Train accuracy: 65.83%  Val accuracy: 64.44%\n",
      "Epoch 59 Train Loss: 0.8329 Validation Loss: 0.8809, Train accuracy: 67.78%  Val accuracy: 63.33%\n",
      "Epoch 60 Train Loss: 0.7739 Validation Loss: 0.8831, Train accuracy: 65.83%  Val accuracy: 63.33%\n",
      "Epoch 61 Train Loss: 0.7734 Validation Loss: 0.8378, Train accuracy: 66.94%  Val accuracy: 65.56%\n",
      "Epoch 62 Train Loss: 0.7909 Validation Loss: 0.8601, Train accuracy: 68.61%  Val accuracy: 66.67%\n",
      "Epoch 63 Train Loss: 0.7974 Validation Loss: 0.8531, Train accuracy: 65.00%  Val accuracy: 66.67%\n",
      "Epoch 64 Train Loss: 0.7899 Validation Loss: 0.8689, Train accuracy: 64.44%  Val accuracy: 68.89%\n",
      "Epoch 65 Train Loss: 0.7768 Validation Loss: 0.8920, Train accuracy: 65.56%  Val accuracy: 62.22%\n",
      "Epoch 66 Train Loss: 0.7727 Validation Loss: 0.9029, Train accuracy: 66.67%  Val accuracy: 61.11%\n",
      "Epoch 67 Train Loss: 0.7930 Validation Loss: 0.8998, Train accuracy: 66.11%  Val accuracy: 66.67%\n",
      "Epoch 68 Train Loss: 0.7799 Validation Loss: 0.9000, Train accuracy: 63.89%  Val accuracy: 66.67%\n",
      "Epoch 69 Train Loss: 0.7641 Validation Loss: 0.9077, Train accuracy: 67.22%  Val accuracy: 67.78%\n",
      "Epoch 70 Train Loss: 0.7477 Validation Loss: 0.8528, Train accuracy: 67.22%  Val accuracy: 67.78%\n",
      "Epoch 71 Train Loss: 0.7837 Validation Loss: 0.8506, Train accuracy: 67.22%  Val accuracy: 65.56%\n",
      "Epoch 72 Train Loss: 0.7922 Validation Loss: 0.8801, Train accuracy: 64.72%  Val accuracy: 62.22%\n",
      "Epoch 73 Train Loss: 0.7553 Validation Loss: 0.8820, Train accuracy: 65.83%  Val accuracy: 67.78%\n",
      "Epoch 74 Train Loss: 0.7805 Validation Loss: 0.8863, Train accuracy: 67.22%  Val accuracy: 67.78%\n",
      "Epoch 75 Train Loss: 0.7869 Validation Loss: 0.9050, Train accuracy: 65.28%  Val accuracy: 64.44%\n",
      "Epoch 76 Train Loss: 0.7548 Validation Loss: 0.9192, Train accuracy: 67.78%  Val accuracy: 68.89%\n",
      "Epoch 77 Train Loss: 0.7829 Validation Loss: 0.8630, Train accuracy: 63.06%  Val accuracy: 67.78%\n",
      "Epoch 78 Train Loss: 0.7544 Validation Loss: 0.9029, Train accuracy: 68.89%  Val accuracy: 62.22%\n",
      "Epoch 79 Train Loss: 0.7590 Validation Loss: 0.8705, Train accuracy: 65.83%  Val accuracy: 66.67%\n",
      "Epoch 80 Train Loss: 0.7262 Validation Loss: 0.8668, Train accuracy: 68.33%  Val accuracy: 66.67%\n",
      "Epoch 81 Train Loss: 0.7898 Validation Loss: 0.8671, Train accuracy: 63.33%  Val accuracy: 66.67%\n",
      "Epoch 82 Train Loss: 0.7786 Validation Loss: 0.8545, Train accuracy: 65.56%  Val accuracy: 56.67%\n",
      "Epoch 83 Train Loss: 0.7714 Validation Loss: 0.8648, Train accuracy: 65.56%  Val accuracy: 65.56%\n",
      "Epoch 84 Train Loss: 0.7660 Validation Loss: 0.9568, Train accuracy: 65.28%  Val accuracy: 61.11%\n"
     ]
    },
    {
     "name": "stdout",
     "output_type": "stream",
     "text": [
      "Epoch 85 Train Loss: 0.7619 Validation Loss: 0.8905, Train accuracy: 64.44%  Val accuracy: 67.78%\n",
      "Epoch 86 Train Loss: 0.7944 Validation Loss: 0.8973, Train accuracy: 65.28%  Val accuracy: 65.56%\n",
      "Epoch 87 Train Loss: 0.7542 Validation Loss: 0.8412, Train accuracy: 66.39%  Val accuracy: 64.44%\n",
      "Epoch 88 Train Loss: 0.7577 Validation Loss: 0.8695, Train accuracy: 65.83%  Val accuracy: 66.67%\n",
      "Epoch 89 Train Loss: 0.7574 Validation Loss: 0.8625, Train accuracy: 67.78%  Val accuracy: 63.33%\n",
      "Epoch 90 Train Loss: 0.7363 Validation Loss: 0.8586, Train accuracy: 67.50%  Val accuracy: 66.67%\n",
      "Epoch 91 Train Loss: 0.7298 Validation Loss: 0.8546, Train accuracy: 67.50%  Val accuracy: 63.33%\n",
      "Epoch 92 Train Loss: 0.7386 Validation Loss: 0.8674, Train accuracy: 67.22%  Val accuracy: 65.56%\n",
      "Epoch 93 Train Loss: 0.7204 Validation Loss: 0.8637, Train accuracy: 69.17%  Val accuracy: 64.44%\n",
      "Epoch 94 Train Loss: 0.7223 Validation Loss: 0.8860, Train accuracy: 67.22%  Val accuracy: 63.33%\n",
      "Epoch 95 Train Loss: 0.7520 Validation Loss: 0.8949, Train accuracy: 66.94%  Val accuracy: 65.56%\n",
      "Epoch 96 Train Loss: 0.7204 Validation Loss: 0.8857, Train accuracy: 67.22%  Val accuracy: 65.56%\n",
      "Epoch 97 Train Loss: 0.7485 Validation Loss: 0.8550, Train accuracy: 66.67%  Val accuracy: 64.44%\n",
      "Epoch 98 Train Loss: 0.7612 Validation Loss: 0.8951, Train accuracy: 65.56%  Val accuracy: 64.44%\n",
      "Epoch 99 Train Loss: 0.7561 Validation Loss: 0.8847, Train accuracy: 64.72%  Val accuracy: 64.44%\n",
      "Epoch 100 Train Loss: 0.7165 Validation Loss: 0.9014, Train accuracy: 66.94%  Val accuracy: 65.56%\n",
      "Training completed\n"
     ]
    }
   ],
   "source": [
    "# Training the model\n",
    "num_epochs = 100\n",
    "device = torch.device(\"cuda\" if torch.cuda.is_available() else \"cpu\")\n",
    "model.to(device)\n",
    "\n",
    "for epoch in range(num_epochs):\n",
    "    # Training phase\n",
    "    model.train()\n",
    "    running_loss = 0.0\n",
    "    correct = 0\n",
    "    total = 0\n",
    "    for i, data in enumerate(train_loader, 0):\n",
    "        inputs, labels = data[0].to(device), data[1].to(device)\n",
    "        optimizer.zero_grad()\n",
    "\n",
    "        outputs = model(inputs)\n",
    "        loss = criterion(outputs, labels)\n",
    "        loss.backward()\n",
    "        optimizer.step()\n",
    "        running_loss += loss.item()\n",
    "        _, predicted = torch.max(outputs.data, 1)\n",
    "        total += labels.size(0)\n",
    "        correct += (predicted == labels).sum().item()\n",
    "        \n",
    "    accuracy = (correct / total) * 100\n",
    "    train_loss = running_loss / len(train_loader)\n",
    "\n",
    "\n",
    "    # Validation phase\n",
    "    model.eval()  # Set the model to evaluation mode\n",
    "    runing_val_loss = 0.0\n",
    "    val_correct = 0\n",
    "    val_total = 0\n",
    "    with torch.no_grad():\n",
    "        for data in val_loader:\n",
    "            inputs, labels = data[0].to(device), data[1].to(device)\n",
    "            outputs = model(inputs)\n",
    "            loss = criterion(outputs, labels)\n",
    "            runing_val_loss += loss.item()\n",
    "\n",
    "            _, predicted = torch.max(outputs.data, 1)\n",
    "            val_total += labels.size(0)\n",
    "            val_correct += (predicted == labels).sum().item()\n",
    "        \n",
    "        val_accuracy = (val_correct / val_total) * 100\n",
    "        val_loss = runing_val_loss / len(val_loader)\n",
    "\n",
    "    print(f'Epoch {epoch + 1} Train Loss: {train_loss:.4f} Validation Loss: {val_loss:.4f}, '\n",
    "          f'Train accuracy: {accuracy:.2f}%  Val accuracy: {val_accuracy:.2f}%')\n",
    "\n",
    "print(\"Training completed\")"
   ]
  },
  {
   "cell_type": "code",
   "execution_count": null,
   "id": "2a5b0ce5",
   "metadata": {
    "ExecuteTime": {
     "end_time": "2023-12-11T20:21:48.560882Z",
     "start_time": "2023-12-11T20:21:48.560876Z"
    }
   },
   "outputs": [],
   "source": [
    "# Guardar el modelo entrenado\n",
    "torch.save(model.state_dict(), 'modelo_entrenado.pth')"
   ]
  },
  {
   "cell_type": "code",
   "execution_count": null,
   "id": "138079d4",
   "metadata": {},
   "outputs": [],
   "source": []
  },
  {
   "cell_type": "code",
   "execution_count": null,
   "id": "7a856ba4",
   "metadata": {},
   "outputs": [],
   "source": []
  },
  {
   "cell_type": "code",
   "execution_count": null,
   "id": "de38f271",
   "metadata": {},
   "outputs": [],
   "source": []
  }
 ],
 "metadata": {
  "hide_input": false,
  "kernelspec": {
   "display_name": "Python 3 (ipykernel)",
   "language": "python",
   "name": "python3"
  },
  "language_info": {
   "codemirror_mode": {
    "name": "ipython",
    "version": 3
   },
   "file_extension": ".py",
   "mimetype": "text/x-python",
   "name": "python",
   "nbconvert_exporter": "python",
   "pygments_lexer": "ipython3",
   "version": "3.9.12"
  },
  "toc": {
   "base_numbering": 1,
   "nav_menu": {},
   "number_sections": true,
   "sideBar": true,
   "skip_h1_title": false,
   "title_cell": "Table of Contents",
   "title_sidebar": "Contents",
   "toc_cell": false,
   "toc_position": {},
   "toc_section_display": true,
   "toc_window_display": false
  },
  "varInspector": {
   "cols": {
    "lenName": 16,
    "lenType": 16,
    "lenVar": 40
   },
   "kernels_config": {
    "python": {
     "delete_cmd_postfix": "",
     "delete_cmd_prefix": "del ",
     "library": "var_list.py",
     "varRefreshCmd": "print(var_dic_list())"
    },
    "r": {
     "delete_cmd_postfix": ") ",
     "delete_cmd_prefix": "rm(",
     "library": "var_list.r",
     "varRefreshCmd": "cat(var_dic_list()) "
    }
   },
   "types_to_exclude": [
    "module",
    "function",
    "builtin_function_or_method",
    "instance",
    "_Feature"
   ],
   "window_display": false
  }
 },
 "nbformat": 4,
 "nbformat_minor": 5
}
