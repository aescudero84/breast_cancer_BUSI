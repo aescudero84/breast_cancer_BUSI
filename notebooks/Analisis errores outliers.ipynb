{
 "cells": [
  {
   "cell_type": "code",
   "execution_count": 1,
   "id": "9b8b22df",
   "metadata": {
    "ExecuteTime": {
     "end_time": "2023-03-28T11:24:40.843553Z",
     "start_time": "2023-03-28T11:24:40.382231Z"
    }
   },
   "outputs": [],
   "source": [
    "import pandas as pd\n",
    "import os\n",
    "import glob\n",
    "import seaborn as sns\n",
    "import matplotlib.pyplot as plt\n",
    "from statsmodels.stats.diagnostic import lilliefors\n",
    "from scipy.stats import mannwhitneyu\n",
    "\n",
    "import warnings\n",
    "warnings.filterwarnings(\"ignore\")"
   ]
  },
  {
   "cell_type": "code",
   "execution_count": 2,
   "id": "f6ac769d",
   "metadata": {
    "ExecuteTime": {
     "end_time": "2023-03-28T11:24:40.848184Z",
     "start_time": "2023-03-28T11:24:40.844783Z"
    }
   },
   "outputs": [],
   "source": [
    "def filter_anomalous_cases(mapping, filter_or_select='filter'):\n",
    "\n",
    "    anomalous_cases = {\n",
    "        'benign': [435, 433, 42, 131, 437, 269, 333, 399, 403, 406, 85, 164, 61, 94, 108, 114, 116, 119, 122, 201, 302,\n",
    "                   394, 402, 199, 248, 242, 288, 236, 247, 233, 299, 4, 321, 25, 153],\n",
    "        'malignant': [145, 51, 77, 78, 93, 94, 52, 106, 107, 18, 116],\n",
    "        'normal': [34, 1]\n",
    "    }\n",
    "    \n",
    "    mapping.reset_index(drop=True, inplace=True)\n",
    "    mapping_result = mapping.copy()\n",
    "    \n",
    "\n",
    "    for cls, ids in anomalous_cases.items():\n",
    "        mapping_result = mapping_result[~((mapping_result['class'] == cls) & (mapping['patient_id'].isin(ids)))]\n",
    "\n",
    "    if filter_or_select == 'select':\n",
    "        index_not_out = mapping_result.index.values.tolist()\n",
    "        mapping_result = mapping.loc[~mapping.index.isin(index_not_out)]\n",
    "        \n",
    "\n",
    "    return mapping_result"
   ]
  },
  {
   "cell_type": "code",
   "execution_count": 3,
   "id": "7ea4fc14",
   "metadata": {
    "ExecuteTime": {
     "end_time": "2023-03-28T11:24:40.861992Z",
     "start_time": "2023-03-28T11:24:40.849313Z"
    }
   },
   "outputs": [],
   "source": [
    "# 20230310_174428_CV_4_normal\n",
    "# 20230224_131152_CV_4_benign_malignant\n",
    "\n",
    "path_exp = sorted(glob.glob(\"./../Results/Experiments/20230310_174428_CV_4_normal/fold*/results.csv\"))"
   ]
  },
  {
   "cell_type": "code",
   "execution_count": 4,
   "id": "93bf30d5",
   "metadata": {
    "ExecuteTime": {
     "end_time": "2023-03-28T11:24:40.874752Z",
     "start_time": "2023-03-28T11:24:40.862886Z"
    }
   },
   "outputs": [
    {
     "name": "stdout",
     "output_type": "stream",
     "text": [
      "(780, 10)\n"
     ]
    },
    {
     "data": {
      "text/html": [
       "<div>\n",
       "<style scoped>\n",
       "    .dataframe tbody tr th:only-of-type {\n",
       "        vertical-align: middle;\n",
       "    }\n",
       "\n",
       "    .dataframe tbody tr th {\n",
       "        vertical-align: top;\n",
       "    }\n",
       "\n",
       "    .dataframe thead th {\n",
       "        text-align: right;\n",
       "    }\n",
       "</style>\n",
       "<table border=\"1\" class=\"dataframe\">\n",
       "  <thead>\n",
       "    <tr style=\"text-align: right;\">\n",
       "      <th></th>\n",
       "      <th>patient_id</th>\n",
       "      <th>Haussdorf distance</th>\n",
       "      <th>DICE</th>\n",
       "      <th>Sensitivity</th>\n",
       "      <th>Specificity</th>\n",
       "      <th>Accuracy</th>\n",
       "      <th>Jaccard index</th>\n",
       "      <th>Precision</th>\n",
       "      <th>class</th>\n",
       "      <th>fold</th>\n",
       "    </tr>\n",
       "  </thead>\n",
       "  <tbody>\n",
       "    <tr>\n",
       "      <th>109</th>\n",
       "      <td>1</td>\n",
       "      <td>9.0</td>\n",
       "      <td>0.891726</td>\n",
       "      <td>0.875564</td>\n",
       "      <td>0.954885</td>\n",
       "      <td>0.928040</td>\n",
       "      <td>0.804607</td>\n",
       "      <td>0.908496</td>\n",
       "      <td>malignant</td>\n",
       "      <td>1</td>\n",
       "    </tr>\n",
       "    <tr>\n",
       "      <th>162</th>\n",
       "      <td>1</td>\n",
       "      <td>NaN</td>\n",
       "      <td>0.000000</td>\n",
       "      <td>NaN</td>\n",
       "      <td>0.899231</td>\n",
       "      <td>0.899231</td>\n",
       "      <td>0.000000</td>\n",
       "      <td>NaN</td>\n",
       "      <td>normal</td>\n",
       "      <td>2</td>\n",
       "    </tr>\n",
       "    <tr>\n",
       "      <th>0</th>\n",
       "      <td>1</td>\n",
       "      <td>2.0</td>\n",
       "      <td>0.881890</td>\n",
       "      <td>0.933333</td>\n",
       "      <td>0.999326</td>\n",
       "      <td>0.999084</td>\n",
       "      <td>0.788732</td>\n",
       "      <td>0.835821</td>\n",
       "      <td>benign</td>\n",
       "      <td>1</td>\n",
       "    </tr>\n",
       "  </tbody>\n",
       "</table>\n",
       "</div>"
      ],
      "text/plain": [
       "     patient_id  Haussdorf distance      DICE  Sensitivity  Specificity  \\\n",
       "109           1                 9.0  0.891726     0.875564     0.954885   \n",
       "162           1                 NaN  0.000000          NaN     0.899231   \n",
       "0             1                 2.0  0.881890     0.933333     0.999326   \n",
       "\n",
       "     Accuracy  Jaccard index  Precision      class  fold  \n",
       "109  0.928040       0.804607   0.908496  malignant     1  \n",
       "162  0.899231       0.000000        NaN     normal     2  \n",
       "0    0.999084       0.788732   0.835821     benign     1  "
      ]
     },
     "execution_count": 4,
     "metadata": {},
     "output_type": "execute_result"
    }
   ],
   "source": [
    "\n",
    "results = []\n",
    "for n, f in enumerate(path_exp):\n",
    "    df = pd.read_csv(f)\n",
    "    df[\"fold\"] = n\n",
    "    results.append(df)\n",
    "\n",
    "results = pd.concat(results).sort_values(by=\"patient_id\")\n",
    "print(results.shape)\n",
    "results.head(3)"
   ]
  },
  {
   "cell_type": "code",
   "execution_count": 5,
   "id": "d670eb58",
   "metadata": {
    "ExecuteTime": {
     "end_time": "2023-03-28T11:24:40.878596Z",
     "start_time": "2023-03-28T11:24:40.875405Z"
    }
   },
   "outputs": [
    {
     "name": "stdout",
     "output_type": "stream",
     "text": [
      "DICE: 68.78 +- 6.73\n",
      "Sensitivity: 81.98 +- 2.05\n",
      "Specificity: 97.08 +- 1.37\n",
      "Precision: 82.05 +- 4.46\n",
      "Jaccard: 61.37 +- 7.12\n"
     ]
    }
   ],
   "source": [
    "results_grouped = results.groupby(\"fold\").mean().reset_index(drop=True)\n",
    "print(f\"DICE: {round(100 * results_grouped.DICE.mean(), 2)} +- {round(100 * results_grouped.DICE.std(), 2)}\")\n",
    "print(f\"Sensitivity: {round(100 * results_grouped.Sensitivity.mean(), 2)} +- {round(100 * results_grouped.Sensitivity.std(), 2)}\")\n",
    "print(f\"Specificity: {round(100 * results_grouped.Specificity.mean(), 2)} +- {round(100 * results_grouped.Specificity.std(), 2)}\")\n",
    "print(f\"Precision: {round(100 * results_grouped.Precision.mean(), 2)} +- {round(100 * results_grouped.Precision.std(), 2)}\")\n",
    "print(f\"Jaccard: {round(100 * results_grouped['Jaccard index'].mean(), 2)} +- {round(100 * results_grouped['Jaccard index'].std(), 2)}\")"
   ]
  },
  {
   "cell_type": "code",
   "execution_count": 6,
   "id": "4f4106b7",
   "metadata": {
    "ExecuteTime": {
     "end_time": "2023-03-28T11:24:40.940167Z",
     "start_time": "2023-03-28T11:24:40.879268Z"
    }
   },
   "outputs": [
    {
     "name": "stdout",
     "output_type": "stream",
     "text": [
      "No outliers shape: 732. Outliers shape: 48.\n"
     ]
    }
   ],
   "source": [
    "df_no_outliers = filter_anomalous_cases(results, 'filter')\n",
    "df_outliers = filter_anomalous_cases(results, 'select')\n",
    "\n",
    "print(f\"No outliers shape: {df_no_outliers.shape[0]}. Outliers shape: {df_outliers.shape[0]}.\")"
   ]
  },
  {
   "cell_type": "code",
   "execution_count": 7,
   "id": "5d072842",
   "metadata": {
    "ExecuteTime": {
     "end_time": "2023-03-28T11:24:41.014948Z",
     "start_time": "2023-03-28T11:24:40.940921Z"
    }
   },
   "outputs": [
    {
     "data": {
      "text/plain": [
       "(0.2031190442027534, 0.0009999999999998899)"
      ]
     },
     "execution_count": 7,
     "metadata": {},
     "output_type": "execute_result"
    },
    {
     "data": {
      "image/png": "[encoded data removed]",
      "text/plain": [
       "<Figure size 432x288 with 1 Axes>"
      ]
     },
     "metadata": {
      "needs_background": "light"
     },
     "output_type": "display_data"
    }
   ],
   "source": [
    "df_outliers.DICE.hist()\n",
    "lilliefors(df_outliers.DICE)"
   ]
  },
  {
   "cell_type": "code",
   "execution_count": 8,
   "id": "1f0da84e",
   "metadata": {
    "ExecuteTime": {
     "end_time": "2023-03-28T11:24:41.069550Z",
     "start_time": "2023-03-28T11:24:41.015616Z"
    }
   },
   "outputs": [
    {
     "data": {
      "text/plain": [
       "(0.26649546775852956, 0.0009999999999998899)"
      ]
     },
     "execution_count": 8,
     "metadata": {},
     "output_type": "execute_result"
    },
    {
     "data": {
      "image/png": "[encoded data removed]",
      "text/plain": [
       "<Figure size 432x288 with 1 Axes>"
      ]
     },
     "metadata": {
      "needs_background": "light"
     },
     "output_type": "display_data"
    }
   ],
   "source": [
    "df_no_outliers.DICE.hist()\n",
    "lilliefors(df_no_outliers.DICE)"
   ]
  },
  {
   "cell_type": "code",
   "execution_count": 9,
   "id": "adab5676",
   "metadata": {
    "ExecuteTime": {
     "end_time": "2023-03-28T11:24:41.073590Z",
     "start_time": "2023-03-28T11:24:41.070268Z"
    }
   },
   "outputs": [
    {
     "data": {
      "text/plain": [
       "MannwhitneyuResult(statistic=23807.5, pvalue=3.593709692631403e-05)"
      ]
     },
     "execution_count": 9,
     "metadata": {},
     "output_type": "execute_result"
    }
   ],
   "source": [
    "mannwhitneyu(df_no_outliers.DICE, df_outliers.DICE)"
   ]
  },
  {
   "cell_type": "code",
   "execution_count": 10,
   "id": "ab962799",
   "metadata": {
    "ExecuteTime": {
     "end_time": "2023-03-28T11:24:41.076375Z",
     "start_time": "2023-03-28T11:24:41.075183Z"
    }
   },
   "outputs": [],
   "source": [
    "# mannwhitneyu(df_no_outliers.sample(46).DICE, df_no_outliers.sample(46).DICE)"
   ]
  },
  {
   "cell_type": "code",
   "execution_count": null,
   "id": "34ab4ebc",
   "metadata": {},
   "outputs": [],
   "source": []
  }
 ],
 "metadata": {
  "hide_input": false,
  "kernelspec": {
   "display_name": "Python 3 (ipykernel)",
   "language": "python",
   "name": "python3"
  },
  "language_info": {
   "codemirror_mode": {
    "name": "ipython",
    "version": 3
   },
   "file_extension": ".py",
   "mimetype": "text/x-python",
   "name": "python",
   "nbconvert_exporter": "python",
   "pygments_lexer": "ipython3",
   "version": "3.9.12"
  },
  "toc": {
   "base_numbering": 1,
   "nav_menu": {},
   "number_sections": true,
   "sideBar": true,
   "skip_h1_title": false,
   "title_cell": "Table of Contents",
   "title_sidebar": "Contents",
   "toc_cell": false,
   "toc_position": {},
   "toc_section_display": true,
   "toc_window_display": false
  },
  "varInspector": {
   "cols": {
    "lenName": 16,
    "lenType": 16,
    "lenVar": 40
   },
   "kernels_config": {
    "python": {
     "delete_cmd_postfix": "",
     "delete_cmd_prefix": "del ",
     "library": "var_list.py",
     "varRefreshCmd": "print(var_dic_list())"
    },
    "r": {
     "delete_cmd_postfix": ") ",
     "delete_cmd_prefix": "rm(",
     "library": "var_list.r",
     "varRefreshCmd": "cat(var_dic_list()) "
    }
   },
   "types_to_exclude": [
    "module",
    "function",
    "builtin_function_or_method",
    "instance",
    "_Feature"
   ],
   "window_display": false
  }
 },
 "nbformat": 4,
 "nbformat_minor": 5
}
