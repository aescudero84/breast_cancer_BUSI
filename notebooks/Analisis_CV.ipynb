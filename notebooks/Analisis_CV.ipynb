{
 "cells": [
  {
   "cell_type": "code",
   "execution_count": 13,
   "id": "b2d94114",
   "metadata": {
    "ExecuteTime": {
     "end_time": "2023-03-10T21:49:29.835795Z",
     "start_time": "2023-03-10T21:49:29.443131Z"
    }
   },
   "outputs": [],
   "source": [
    "import pandas as pd\n",
    "import os\n",
    "import glob\n",
    "import seaborn as sns\n",
    "import matplotlib.pyplot as plt"
   ]
  },
  {
   "cell_type": "markdown",
   "id": "80aeb6d8",
   "metadata": {},
   "source": [
    "# Benign"
   ]
  },
  {
   "cell_type": "markdown",
   "id": "ff1d6ade",
   "metadata": {},
   "source": [
    "## 4 folds using 80%"
   ]
  },
  {
   "cell_type": "code",
   "execution_count": 9,
   "id": "98a008a0",
   "metadata": {
    "ExecuteTime": {
     "end_time": "2023-02-28T08:16:04.161783Z",
     "start_time": "2023-02-28T08:16:04.152254Z"
    }
   },
   "outputs": [
    {
     "name": "stdout",
     "output_type": "stream",
     "text": [
      "(437, 11)\n",
      "DICE: 81.7 +- 2.09\n",
      "Sensitivity: 86.25 +- 2.46\n",
      "Specificity: 98.34 +- 0.3\n",
      "Precision: 84.06 +- 3.08\n",
      "Jaccard: 73.95 +- 2.84\n"
     ]
    }
   ],
   "source": [
    "path_cv_4_benign_80 = sorted(glob.glob(\"./../runs/20230227_225500_CV_4_benign_0.8_224/fold*/results.csv\"))\n",
    "results_cv_4_benign_80 = []\n",
    "for n, f in enumerate(path_cv_4_benign_80):\n",
    "    df = pd.read_csv(f)\n",
    "    df[\"fold\"] = n\n",
    "    results_cv_4_benign_80.append(df)\n",
    "\n",
    "results_cv_4_benign_80 = pd.concat(results_cv_4_benign_80).sort_values(by=\"patient_id\")\n",
    "results_cv_4_benign_80[\"training\"] = \"80%\"\n",
    "print(results_cv_4_benign_80.shape)\n",
    "results_cv_4_benign_80.head(3)\n",
    "\n",
    "\n",
    "results = results_cv_4_benign_80.groupby(\"fold\").mean().reset_index(drop=True)\n",
    "print(f\"DICE: {round(100 * results.DICE.mean(), 2)} +- {round(100 * results.DICE.std(), 2)}\")\n",
    "print(f\"Sensitivity: {round(100 * results.Sensitivity.mean(), 2)} +- {round(100 * results.Sensitivity.std(), 2)}\")\n",
    "print(f\"Specificity: {round(100 * results.Specificity.mean(), 2)} +- {round(100 * results.Specificity.std(), 2)}\")\n",
    "print(f\"Precision: {round(100 * results.Precision.mean(), 2)} +- {round(100 * results.Precision.std(), 2)}\")\n",
    "print(f\"Jaccard: {round(100 * results['Jaccard index'].mean(), 2)} +- {round(100 * results['Jaccard index'].std(), 2)}\")"
   ]
  },
  {
   "cell_type": "code",
   "execution_count": 10,
   "id": "ba7d7560",
   "metadata": {
    "ExecuteTime": {
     "end_time": "2023-03-10T08:47:33.456556Z",
     "start_time": "2023-03-10T08:47:33.453672Z"
    }
   },
   "outputs": [
    {
     "data": {
      "text/plain": [
       "0.812674"
      ]
     },
     "execution_count": 10,
     "metadata": {},
     "output_type": "execute_result"
    }
   ],
   "source": [
    "np.mean([0.841813, 0.799376, 0.813865, 0.795642])\n",
    "#np.mean([0.792384, 0.799358, 0.800770, 0.847529])"
   ]
  },
  {
   "cell_type": "code",
   "execution_count": 11,
   "id": "d25a64ad",
   "metadata": {
    "ExecuteTime": {
     "end_time": "2023-03-10T08:47:54.439520Z",
     "start_time": "2023-03-10T08:47:54.437011Z"
    }
   },
   "outputs": [
    {
     "data": {
      "text/plain": [
       "0.018148179178639406"
      ]
     },
     "execution_count": 11,
     "metadata": {},
     "output_type": "execute_result"
    }
   ],
   "source": [
    "np.std([0.841813, 0.799376, 0.813865, 0.795642])\n",
    "#np.std([0.792384, 0.799358, 0.800770, 0.847529])"
   ]
  },
  {
   "cell_type": "code",
   "execution_count": null,
   "id": "e486d75d",
   "metadata": {},
   "outputs": [],
   "source": []
  },
  {
   "cell_type": "code",
   "execution_count": 128,
   "id": "0319b527",
   "metadata": {
    "ExecuteTime": {
     "end_time": "2023-02-25T19:34:00.720649Z",
     "start_time": "2023-02-25T19:34:00.710763Z"
    }
   },
   "outputs": [
    {
     "name": "stdout",
     "output_type": "stream",
     "text": [
      "(437, 11)\n"
     ]
    },
    {
     "data": {
      "text/html": [
       "<div>\n",
       "<style scoped>\n",
       "    .dataframe tbody tr th:only-of-type {\n",
       "        vertical-align: middle;\n",
       "    }\n",
       "\n",
       "    .dataframe tbody tr th {\n",
       "        vertical-align: top;\n",
       "    }\n",
       "\n",
       "    .dataframe thead th {\n",
       "        text-align: right;\n",
       "    }\n",
       "</style>\n",
       "<table border=\"1\" class=\"dataframe\">\n",
       "  <thead>\n",
       "    <tr style=\"text-align: right;\">\n",
       "      <th></th>\n",
       "      <th>patient_id</th>\n",
       "      <th>Haussdorf distance</th>\n",
       "      <th>DICE</th>\n",
       "      <th>Sensitivity</th>\n",
       "      <th>Specificity</th>\n",
       "      <th>Accuracy</th>\n",
       "      <th>Jaccard index</th>\n",
       "      <th>Precision</th>\n",
       "      <th>class</th>\n",
       "      <th>fold</th>\n",
       "      <th>training</th>\n",
       "    </tr>\n",
       "  </thead>\n",
       "  <tbody>\n",
       "    <tr>\n",
       "      <th>0</th>\n",
       "      <td>1</td>\n",
       "      <td>2.000000</td>\n",
       "      <td>0.899225</td>\n",
       "      <td>0.966667</td>\n",
       "      <td>0.999326</td>\n",
       "      <td>0.999207</td>\n",
       "      <td>0.816901</td>\n",
       "      <td>0.840580</td>\n",
       "      <td>benign</td>\n",
       "      <td>1</td>\n",
       "      <td>80%</td>\n",
       "    </tr>\n",
       "    <tr>\n",
       "      <th>0</th>\n",
       "      <td>2</td>\n",
       "      <td>1.414214</td>\n",
       "      <td>0.961373</td>\n",
       "      <td>0.958904</td>\n",
       "      <td>0.998671</td>\n",
       "      <td>0.997253</td>\n",
       "      <td>0.925620</td>\n",
       "      <td>0.963855</td>\n",
       "      <td>benign</td>\n",
       "      <td>3</td>\n",
       "      <td>80%</td>\n",
       "    </tr>\n",
       "    <tr>\n",
       "      <th>0</th>\n",
       "      <td>3</td>\n",
       "      <td>1.000000</td>\n",
       "      <td>0.969977</td>\n",
       "      <td>0.972222</td>\n",
       "      <td>0.999122</td>\n",
       "      <td>0.998413</td>\n",
       "      <td>0.941704</td>\n",
       "      <td>0.967742</td>\n",
       "      <td>benign</td>\n",
       "      <td>2</td>\n",
       "      <td>80%</td>\n",
       "    </tr>\n",
       "  </tbody>\n",
       "</table>\n",
       "</div>"
      ],
      "text/plain": [
       "   patient_id  Haussdorf distance      DICE  Sensitivity  Specificity  \\\n",
       "0           1            2.000000  0.899225     0.966667     0.999326   \n",
       "0           2            1.414214  0.961373     0.958904     0.998671   \n",
       "0           3            1.000000  0.969977     0.972222     0.999122   \n",
       "\n",
       "   Accuracy  Jaccard index  Precision   class  fold training  \n",
       "0  0.999207       0.816901   0.840580  benign     1      80%  \n",
       "0  0.997253       0.925620   0.963855  benign     3      80%  \n",
       "0  0.998413       0.941704   0.967742  benign     2      80%  "
      ]
     },
     "execution_count": 128,
     "metadata": {},
     "output_type": "execute_result"
    }
   ],
   "source": [
    "path_cv_4_benign_80 = sorted(glob.glob(\"./../runs/20230225_181123_CV_4_benign_0.8/fold*/results.csv\"))\n",
    "results_cv_4_benign_80 = []\n",
    "for n, f in enumerate(path_cv_4_benign_80):\n",
    "    df = pd.read_csv(f)\n",
    "    df[\"fold\"] = n\n",
    "    results_cv_4_benign_80.append(df)\n",
    "\n",
    "results_cv_4_benign_80 = pd.concat(results_cv_4_benign_80).sort_values(by=\"patient_id\")\n",
    "results_cv_4_benign_80[\"training\"] = \"80%\"\n",
    "print(results_cv_4_benign_80.shape)\n",
    "results_cv_4_benign_80.head(3)"
   ]
  },
  {
   "cell_type": "code",
   "execution_count": 129,
   "id": "f012c366",
   "metadata": {
    "ExecuteTime": {
     "end_time": "2023-02-25T19:34:04.176918Z",
     "start_time": "2023-02-25T19:34:04.173027Z"
    }
   },
   "outputs": [
    {
     "name": "stdout",
     "output_type": "stream",
     "text": [
      "DICE: 80.7 +- 2.8\n",
      "Sensitivity: 85.91 +- 2.8\n",
      "Specificity: 98.59 +- 0.06\n",
      "Precision: 84.77 +- 4.45\n",
      "Jaccard: 72.72 +- 3.71\n"
     ]
    }
   ],
   "source": [
    "results = results_cv_4_benign_80.groupby(\"fold\").mean().reset_index(drop=True)\n",
    "print(f\"DICE: {round(100 * results.DICE.mean(), 2)} +- {round(100 * results.DICE.std(), 2)}\")\n",
    "print(f\"Sensitivity: {round(100 * results.Sensitivity.mean(), 2)} +- {round(100 * results.Sensitivity.std(), 2)}\")\n",
    "print(f\"Specificity: {round(100 * results.Specificity.mean(), 2)} +- {round(100 * results.Specificity.std(), 2)}\")\n",
    "print(f\"Precision: {round(100 * results.Precision.mean(), 2)} +- {round(100 * results.Precision.std(), 2)}\")\n",
    "print(f\"Jaccard: {round(100 * results['Jaccard index'].mean(), 2)} +- {round(100 * results['Jaccard index'].std(), 2)}\")"
   ]
  },
  {
   "cell_type": "markdown",
   "id": "e6f3a820",
   "metadata": {},
   "source": [
    "## 10 folds using 80% training"
   ]
  },
  {
   "cell_type": "code",
   "execution_count": 113,
   "id": "ebebf4e8",
   "metadata": {
    "ExecuteTime": {
     "end_time": "2023-02-25T16:15:18.384985Z",
     "start_time": "2023-02-25T16:15:18.370006Z"
    }
   },
   "outputs": [
    {
     "name": "stdout",
     "output_type": "stream",
     "text": [
      "(437, 11)\n"
     ]
    },
    {
     "data": {
      "text/html": [
       "<div>\n",
       "<style scoped>\n",
       "    .dataframe tbody tr th:only-of-type {\n",
       "        vertical-align: middle;\n",
       "    }\n",
       "\n",
       "    .dataframe tbody tr th {\n",
       "        vertical-align: top;\n",
       "    }\n",
       "\n",
       "    .dataframe thead th {\n",
       "        text-align: right;\n",
       "    }\n",
       "</style>\n",
       "<table border=\"1\" class=\"dataframe\">\n",
       "  <thead>\n",
       "    <tr style=\"text-align: right;\">\n",
       "      <th></th>\n",
       "      <th>patient_id</th>\n",
       "      <th>Haussdorf distance</th>\n",
       "      <th>DICE</th>\n",
       "      <th>Sensitivity</th>\n",
       "      <th>Specificity</th>\n",
       "      <th>Accuracy</th>\n",
       "      <th>Jaccard index</th>\n",
       "      <th>Precision</th>\n",
       "      <th>class</th>\n",
       "      <th>fold</th>\n",
       "      <th>training</th>\n",
       "    </tr>\n",
       "  </thead>\n",
       "  <tbody>\n",
       "    <tr>\n",
       "      <th>0</th>\n",
       "      <td>1</td>\n",
       "      <td>2.000000</td>\n",
       "      <td>0.880000</td>\n",
       "      <td>0.916667</td>\n",
       "      <td>0.999387</td>\n",
       "      <td>0.999084</td>\n",
       "      <td>0.785714</td>\n",
       "      <td>0.846154</td>\n",
       "      <td>benign</td>\n",
       "      <td>4</td>\n",
       "      <td>80%</td>\n",
       "    </tr>\n",
       "    <tr>\n",
       "      <th>0</th>\n",
       "      <td>2</td>\n",
       "      <td>1.414214</td>\n",
       "      <td>0.958478</td>\n",
       "      <td>0.948630</td>\n",
       "      <td>0.998861</td>\n",
       "      <td>0.997070</td>\n",
       "      <td>0.920266</td>\n",
       "      <td>0.968531</td>\n",
       "      <td>benign</td>\n",
       "      <td>9</td>\n",
       "      <td>80%</td>\n",
       "    </tr>\n",
       "    <tr>\n",
       "      <th>0</th>\n",
       "      <td>3</td>\n",
       "      <td>1.000000</td>\n",
       "      <td>0.961583</td>\n",
       "      <td>0.956019</td>\n",
       "      <td>0.999122</td>\n",
       "      <td>0.997986</td>\n",
       "      <td>0.926009</td>\n",
       "      <td>0.967213</td>\n",
       "      <td>benign</td>\n",
       "      <td>6</td>\n",
       "      <td>80%</td>\n",
       "    </tr>\n",
       "  </tbody>\n",
       "</table>\n",
       "</div>"
      ],
      "text/plain": [
       "   patient_id  Haussdorf distance      DICE  Sensitivity  Specificity  \\\n",
       "0           1            2.000000  0.880000     0.916667     0.999387   \n",
       "0           2            1.414214  0.958478     0.948630     0.998861   \n",
       "0           3            1.000000  0.961583     0.956019     0.999122   \n",
       "\n",
       "   Accuracy  Jaccard index  Precision   class  fold training  \n",
       "0  0.999084       0.785714   0.846154  benign     4      80%  \n",
       "0  0.997070       0.920266   0.968531  benign     9      80%  \n",
       "0  0.997986       0.926009   0.967213  benign     6      80%  "
      ]
     },
     "execution_count": 113,
     "metadata": {},
     "output_type": "execute_result"
    }
   ],
   "source": [
    "path_cv_10_benign_80 = sorted(glob.glob(\"./../runs/20230225_092122_CV_10_benign_0.8/fold*/results.csv\"))\n",
    "results_cv_10_benign_80 = []\n",
    "for n, f in enumerate(path_cv_10_benign_80):\n",
    "    df = pd.read_csv(f)\n",
    "    df[\"fold\"] = n\n",
    "    results_cv_10_benign_80.append(df)\n",
    "\n",
    "results_cv_10_benign_80 = pd.concat(results_cv_10_benign_80).sort_values(by=\"patient_id\")\n",
    "results_cv_10_benign_80[\"training\"] = \"80%\"\n",
    "print(results_cv_10_benign_80.shape)\n",
    "results_cv_10_benign_80.head(3)"
   ]
  },
  {
   "cell_type": "code",
   "execution_count": 120,
   "id": "82717c9d",
   "metadata": {
    "ExecuteTime": {
     "end_time": "2023-02-25T16:17:50.234658Z",
     "start_time": "2023-02-25T16:17:50.230652Z"
    }
   },
   "outputs": [
    {
     "name": "stdout",
     "output_type": "stream",
     "text": [
      "DICE: 81.08 +- 5.68\n",
      "Sensitivity: 85.54 +- 4.46\n",
      "Specificity: 98.65 +- 0.53\n",
      "Precision: 84.52 +- 5.14\n",
      "Jaccard: 73.36 +- 6.02\n"
     ]
    }
   ],
   "source": [
    "results = results_cv_10_benign_80.groupby(\"fold\").mean().reset_index(drop=True)\n",
    "print(f\"DICE: {round(100 * results.DICE.mean(), 2)} +- {round(100 * results.DICE.std(), 2)}\")\n",
    "print(f\"Sensitivity: {round(100 * results.Sensitivity.mean(), 2)} +- {round(100 * results.Sensitivity.std(), 2)}\")\n",
    "print(f\"Specificity: {round(100 * results.Specificity.mean(), 2)} +- {round(100 * results.Specificity.std(), 2)}\")\n",
    "print(f\"Precision: {round(100 * results.Precision.mean(), 2)} +- {round(100 * results.Precision.std(), 2)}\")\n",
    "print(f\"Jaccard: {round(100 * results['Jaccard index'].mean(), 2)} +- {round(100 * results['Jaccard index'].std(), 2)}\")"
   ]
  },
  {
   "cell_type": "markdown",
   "id": "c4d7f315",
   "metadata": {},
   "source": [
    "## 10 folds using 70%"
   ]
  },
  {
   "cell_type": "code",
   "execution_count": 123,
   "id": "f27bdcea",
   "metadata": {
    "ExecuteTime": {
     "end_time": "2023-02-25T16:26:24.205346Z",
     "start_time": "2023-02-25T16:26:24.190724Z"
    }
   },
   "outputs": [
    {
     "name": "stdout",
     "output_type": "stream",
     "text": [
      "(437, 11)\n"
     ]
    },
    {
     "data": {
      "text/html": [
       "<div>\n",
       "<style scoped>\n",
       "    .dataframe tbody tr th:only-of-type {\n",
       "        vertical-align: middle;\n",
       "    }\n",
       "\n",
       "    .dataframe tbody tr th {\n",
       "        vertical-align: top;\n",
       "    }\n",
       "\n",
       "    .dataframe thead th {\n",
       "        text-align: right;\n",
       "    }\n",
       "</style>\n",
       "<table border=\"1\" class=\"dataframe\">\n",
       "  <thead>\n",
       "    <tr style=\"text-align: right;\">\n",
       "      <th></th>\n",
       "      <th>patient_id</th>\n",
       "      <th>Haussdorf distance</th>\n",
       "      <th>DICE</th>\n",
       "      <th>Sensitivity</th>\n",
       "      <th>Specificity</th>\n",
       "      <th>Accuracy</th>\n",
       "      <th>Jaccard index</th>\n",
       "      <th>Precision</th>\n",
       "      <th>class</th>\n",
       "      <th>fold</th>\n",
       "      <th>training</th>\n",
       "    </tr>\n",
       "  </thead>\n",
       "  <tbody>\n",
       "    <tr>\n",
       "      <th>0</th>\n",
       "      <td>1</td>\n",
       "      <td>1.414214</td>\n",
       "      <td>0.885246</td>\n",
       "      <td>0.900000</td>\n",
       "      <td>0.999510</td>\n",
       "      <td>0.999146</td>\n",
       "      <td>0.794118</td>\n",
       "      <td>0.870968</td>\n",
       "      <td>benign</td>\n",
       "      <td>4</td>\n",
       "      <td>70%</td>\n",
       "    </tr>\n",
       "    <tr>\n",
       "      <th>0</th>\n",
       "      <td>2</td>\n",
       "      <td>1.414214</td>\n",
       "      <td>0.947735</td>\n",
       "      <td>0.931507</td>\n",
       "      <td>0.998734</td>\n",
       "      <td>0.996338</td>\n",
       "      <td>0.900662</td>\n",
       "      <td>0.964539</td>\n",
       "      <td>benign</td>\n",
       "      <td>9</td>\n",
       "      <td>70%</td>\n",
       "    </tr>\n",
       "    <tr>\n",
       "      <th>0</th>\n",
       "      <td>3</td>\n",
       "      <td>1.414214</td>\n",
       "      <td>0.957324</td>\n",
       "      <td>0.960648</td>\n",
       "      <td>0.998746</td>\n",
       "      <td>0.997742</td>\n",
       "      <td>0.918142</td>\n",
       "      <td>0.954023</td>\n",
       "      <td>benign</td>\n",
       "      <td>6</td>\n",
       "      <td>70%</td>\n",
       "    </tr>\n",
       "  </tbody>\n",
       "</table>\n",
       "</div>"
      ],
      "text/plain": [
       "   patient_id  Haussdorf distance      DICE  Sensitivity  Specificity  \\\n",
       "0           1            1.414214  0.885246     0.900000     0.999510   \n",
       "0           2            1.414214  0.947735     0.931507     0.998734   \n",
       "0           3            1.414214  0.957324     0.960648     0.998746   \n",
       "\n",
       "   Accuracy  Jaccard index  Precision   class  fold training  \n",
       "0  0.999146       0.794118   0.870968  benign     4      70%  \n",
       "0  0.996338       0.900662   0.964539  benign     9      70%  \n",
       "0  0.997742       0.918142   0.954023  benign     6      70%  "
      ]
     },
     "execution_count": 123,
     "metadata": {},
     "output_type": "execute_result"
    }
   ],
   "source": [
    "path_cv_10_benign_70 = sorted(glob.glob(\"./../runs/20230224_235643_CV_10_benign_0.7/fold*/results.csv\"))\n",
    "results_cv_10_benign_70 = []\n",
    "for n, f in enumerate(path_cv_10_benign_70):\n",
    "    df = pd.read_csv(f)\n",
    "    df[\"fold\"] = n\n",
    "    results_cv_10_benign_70.append(df)\n",
    "\n",
    "results_cv_10_benign_70 = pd.concat(results_cv_10_benign_70).sort_values(by=\"patient_id\")\n",
    "results_cv_10_benign_70[\"training\"] = \"70%\"\n",
    "print(results_cv_10_benign_70.shape)\n",
    "results_cv_10_benign_70.head(3)"
   ]
  },
  {
   "cell_type": "code",
   "execution_count": 124,
   "id": "f5bb5dfb",
   "metadata": {
    "ExecuteTime": {
     "end_time": "2023-02-25T16:26:24.393429Z",
     "start_time": "2023-02-25T16:26:24.389149Z"
    }
   },
   "outputs": [
    {
     "name": "stdout",
     "output_type": "stream",
     "text": [
      "DICE: 80.91 +- 4.53\n",
      "Sensitivity: 85.48 +- 3.23\n",
      "Specificity: 98.63 +- 0.62\n",
      "Precision: 85.21 +- 4.44\n",
      "Jaccard: 73.21 +- 4.96\n"
     ]
    }
   ],
   "source": [
    "results = results_cv_10_benign_70.groupby(\"fold\").mean().reset_index(drop=True)\n",
    "print(f\"DICE: {round(100 * results.DICE.mean(), 2)} +- {round(100 * results.DICE.std(), 2)}\")\n",
    "print(f\"Sensitivity: {round(100 * results.Sensitivity.mean(), 2)} +- {round(100 * results.Sensitivity.std(), 2)}\")\n",
    "print(f\"Specificity: {round(100 * results.Specificity.mean(), 2)} +- {round(100 * results.Specificity.std(), 2)}\")\n",
    "print(f\"Precision: {round(100 * results.Precision.mean(), 2)} +- {round(100 * results.Precision.std(), 2)}\")\n",
    "print(f\"Jaccard: {round(100 * results['Jaccard index'].mean(), 2)} +- {round(100 * results['Jaccard index'].std(), 2)}\")"
   ]
  },
  {
   "cell_type": "markdown",
   "id": "db19bcc8",
   "metadata": {},
   "source": [
    "## comparison both benigns"
   ]
  },
  {
   "cell_type": "code",
   "execution_count": 62,
   "id": "b3b0e8ee",
   "metadata": {
    "ExecuteTime": {
     "end_time": "2023-02-25T15:56:15.595552Z",
     "start_time": "2023-02-25T15:56:15.587175Z"
    }
   },
   "outputs": [
    {
     "data": {
      "text/html": [
       "<div>\n",
       "<style scoped>\n",
       "    .dataframe tbody tr th:only-of-type {\n",
       "        vertical-align: middle;\n",
       "    }\n",
       "\n",
       "    .dataframe tbody tr th {\n",
       "        vertical-align: top;\n",
       "    }\n",
       "\n",
       "    .dataframe thead th {\n",
       "        text-align: right;\n",
       "    }\n",
       "</style>\n",
       "<table border=\"1\" class=\"dataframe\">\n",
       "  <thead>\n",
       "    <tr style=\"text-align: right;\">\n",
       "      <th></th>\n",
       "      <th>training</th>\n",
       "      <th>patient_id</th>\n",
       "      <th>Haussdorf distance</th>\n",
       "      <th>DICE</th>\n",
       "      <th>Sensitivity</th>\n",
       "      <th>Specificity</th>\n",
       "      <th>Accuracy</th>\n",
       "      <th>Jaccard index</th>\n",
       "      <th>Precision</th>\n",
       "      <th>fold</th>\n",
       "    </tr>\n",
       "  </thead>\n",
       "  <tbody>\n",
       "    <tr>\n",
       "      <th>0</th>\n",
       "      <td>70%</td>\n",
       "      <td>219.0</td>\n",
       "      <td>10.919396</td>\n",
       "      <td>0.809307</td>\n",
       "      <td>0.854928</td>\n",
       "      <td>0.986325</td>\n",
       "      <td>0.970595</td>\n",
       "      <td>0.732398</td>\n",
       "      <td>0.852414</td>\n",
       "      <td>4.475973</td>\n",
       "    </tr>\n",
       "    <tr>\n",
       "      <th>1</th>\n",
       "      <td>80%</td>\n",
       "      <td>219.0</td>\n",
       "      <td>10.678730</td>\n",
       "      <td>0.811134</td>\n",
       "      <td>0.855580</td>\n",
       "      <td>0.986554</td>\n",
       "      <td>0.972396</td>\n",
       "      <td>0.733912</td>\n",
       "      <td>0.845421</td>\n",
       "      <td>4.475973</td>\n",
       "    </tr>\n",
       "  </tbody>\n",
       "</table>\n",
       "</div>"
      ],
      "text/plain": [
       "  training  patient_id  Haussdorf distance      DICE  Sensitivity  \\\n",
       "0      70%       219.0           10.919396  0.809307     0.854928   \n",
       "1      80%       219.0           10.678730  0.811134     0.855580   \n",
       "\n",
       "   Specificity  Accuracy  Jaccard index  Precision      fold  \n",
       "0     0.986325  0.970595       0.732398   0.852414  4.475973  \n",
       "1     0.986554  0.972396       0.733912   0.845421  4.475973  "
      ]
     },
     "execution_count": 62,
     "metadata": {},
     "output_type": "execute_result"
    }
   ],
   "source": [
    "df = pd.concat([results_cv_10_benign_80, results_cv_10_benign_70])\n",
    "df.groupby([\"training\", \"fold\"]).mean().reset_index().sort_values(by=\"fold\")\n",
    "df.groupby([\"training\"]).mean().reset_index()"
   ]
  },
  {
   "cell_type": "code",
   "execution_count": 63,
   "id": "b755cef4",
   "metadata": {
    "ExecuteTime": {
     "end_time": "2023-02-25T15:56:55.241826Z",
     "start_time": "2023-02-25T15:56:55.234333Z"
    }
   },
   "outputs": [
    {
     "data": {
      "text/html": [
       "<div>\n",
       "<style scoped>\n",
       "    .dataframe tbody tr th:only-of-type {\n",
       "        vertical-align: middle;\n",
       "    }\n",
       "\n",
       "    .dataframe tbody tr th {\n",
       "        vertical-align: top;\n",
       "    }\n",
       "\n",
       "    .dataframe thead th {\n",
       "        text-align: right;\n",
       "    }\n",
       "</style>\n",
       "<table border=\"1\" class=\"dataframe\">\n",
       "  <thead>\n",
       "    <tr style=\"text-align: right;\">\n",
       "      <th></th>\n",
       "      <th>training</th>\n",
       "      <th>patient_id</th>\n",
       "      <th>Haussdorf distance</th>\n",
       "      <th>DICE</th>\n",
       "      <th>Sensitivity</th>\n",
       "      <th>Specificity</th>\n",
       "      <th>Accuracy</th>\n",
       "      <th>Jaccard index</th>\n",
       "      <th>Precision</th>\n",
       "      <th>fold</th>\n",
       "    </tr>\n",
       "  </thead>\n",
       "  <tbody>\n",
       "    <tr>\n",
       "      <th>0</th>\n",
       "      <td>70%</td>\n",
       "      <td>126.295289</td>\n",
       "      <td>17.946920</td>\n",
       "      <td>0.245546</td>\n",
       "      <td>0.197122</td>\n",
       "      <td>0.031216</td>\n",
       "      <td>0.056366</td>\n",
       "      <td>0.259745</td>\n",
       "      <td>0.209387</td>\n",
       "      <td>2.869884</td>\n",
       "    </tr>\n",
       "    <tr>\n",
       "      <th>1</th>\n",
       "      <td>80%</td>\n",
       "      <td>126.295289</td>\n",
       "      <td>17.476103</td>\n",
       "      <td>0.243527</td>\n",
       "      <td>0.203668</td>\n",
       "      <td>0.029699</td>\n",
       "      <td>0.052797</td>\n",
       "      <td>0.256207</td>\n",
       "      <td>0.215264</td>\n",
       "      <td>2.869884</td>\n",
       "    </tr>\n",
       "  </tbody>\n",
       "</table>\n",
       "</div>"
      ],
      "text/plain": [
       "  training  patient_id  Haussdorf distance      DICE  Sensitivity  \\\n",
       "0      70%  126.295289           17.946920  0.245546     0.197122   \n",
       "1      80%  126.295289           17.476103  0.243527     0.203668   \n",
       "\n",
       "   Specificity  Accuracy  Jaccard index  Precision      fold  \n",
       "0     0.031216  0.056366       0.259745   0.209387  2.869884  \n",
       "1     0.029699  0.052797       0.256207   0.215264  2.869884  "
      ]
     },
     "execution_count": 63,
     "metadata": {},
     "output_type": "execute_result"
    }
   ],
   "source": [
    "df.groupby([\"training\"]).std().reset_index()"
   ]
  },
  {
   "cell_type": "code",
   "execution_count": 59,
   "id": "bd240a02",
   "metadata": {
    "ExecuteTime": {
     "end_time": "2023-02-25T15:32:55.658497Z",
     "start_time": "2023-02-25T15:32:55.523402Z"
    }
   },
   "outputs": [
    {
     "data": {
      "image/png": "[encoded data removed]",
      "text/plain": [
       "<Figure size 1152x576 with 1 Axes>"
      ]
     },
     "metadata": {
      "needs_background": "light"
     },
     "output_type": "display_data"
    }
   ],
   "source": [
    "fig = plt.figure(figsize=(16, 8))\n",
    "sns.boxenplot(data=df, x=\"fold\", y=\"DICE\", hue='training')\n",
    "plt.show()"
   ]
  },
  {
   "cell_type": "markdown",
   "id": "1f3e991b",
   "metadata": {},
   "source": [
    "# Malignant"
   ]
  },
  {
   "cell_type": "markdown",
   "id": "b329e294",
   "metadata": {},
   "source": [
    "## 4 folds using 80% batch 1"
   ]
  },
  {
   "cell_type": "code",
   "execution_count": 133,
   "id": "04e2917a",
   "metadata": {
    "ExecuteTime": {
     "end_time": "2023-02-25T20:37:43.473051Z",
     "start_time": "2023-02-25T20:37:43.461527Z"
    }
   },
   "outputs": [
    {
     "name": "stdout",
     "output_type": "stream",
     "text": [
      "(210, 11)\n"
     ]
    },
    {
     "data": {
      "text/html": [
       "<div>\n",
       "<style scoped>\n",
       "    .dataframe tbody tr th:only-of-type {\n",
       "        vertical-align: middle;\n",
       "    }\n",
       "\n",
       "    .dataframe tbody tr th {\n",
       "        vertical-align: top;\n",
       "    }\n",
       "\n",
       "    .dataframe thead th {\n",
       "        text-align: right;\n",
       "    }\n",
       "</style>\n",
       "<table border=\"1\" class=\"dataframe\">\n",
       "  <thead>\n",
       "    <tr style=\"text-align: right;\">\n",
       "      <th></th>\n",
       "      <th>patient_id</th>\n",
       "      <th>Haussdorf distance</th>\n",
       "      <th>DICE</th>\n",
       "      <th>Sensitivity</th>\n",
       "      <th>Specificity</th>\n",
       "      <th>Accuracy</th>\n",
       "      <th>Jaccard index</th>\n",
       "      <th>Precision</th>\n",
       "      <th>class</th>\n",
       "      <th>fold</th>\n",
       "      <th>training</th>\n",
       "    </tr>\n",
       "  </thead>\n",
       "  <tbody>\n",
       "    <tr>\n",
       "      <th>0</th>\n",
       "      <td>1</td>\n",
       "      <td>12.083046</td>\n",
       "      <td>0.890583</td>\n",
       "      <td>0.916682</td>\n",
       "      <td>0.927392</td>\n",
       "      <td>0.923767</td>\n",
       "      <td>0.802748</td>\n",
       "      <td>0.865928</td>\n",
       "      <td>malignant</td>\n",
       "      <td>2</td>\n",
       "      <td>70%</td>\n",
       "    </tr>\n",
       "    <tr>\n",
       "      <th>0</th>\n",
       "      <td>2</td>\n",
       "      <td>39.597980</td>\n",
       "      <td>0.860469</td>\n",
       "      <td>0.833363</td>\n",
       "      <td>0.946374</td>\n",
       "      <td>0.907837</td>\n",
       "      <td>0.755109</td>\n",
       "      <td>0.889398</td>\n",
       "      <td>malignant</td>\n",
       "      <td>0</td>\n",
       "      <td>70%</td>\n",
       "    </tr>\n",
       "    <tr>\n",
       "      <th>0</th>\n",
       "      <td>3</td>\n",
       "      <td>1.000000</td>\n",
       "      <td>0.836594</td>\n",
       "      <td>0.729920</td>\n",
       "      <td>0.999025</td>\n",
       "      <td>0.982666</td>\n",
       "      <td>0.719090</td>\n",
       "      <td>0.979784</td>\n",
       "      <td>malignant</td>\n",
       "      <td>1</td>\n",
       "      <td>70%</td>\n",
       "    </tr>\n",
       "  </tbody>\n",
       "</table>\n",
       "</div>"
      ],
      "text/plain": [
       "   patient_id  Haussdorf distance      DICE  Sensitivity  Specificity  \\\n",
       "0           1           12.083046  0.890583     0.916682     0.927392   \n",
       "0           2           39.597980  0.860469     0.833363     0.946374   \n",
       "0           3            1.000000  0.836594     0.729920     0.999025   \n",
       "\n",
       "   Accuracy  Jaccard index  Precision      class  fold training  \n",
       "0  0.923767       0.802748   0.865928  malignant     2      70%  \n",
       "0  0.907837       0.755109   0.889398  malignant     0      70%  \n",
       "0  0.982666       0.719090   0.979784  malignant     1      70%  "
      ]
     },
     "execution_count": 133,
     "metadata": {},
     "output_type": "execute_result"
    }
   ],
   "source": [
    "path_cv_4_malignant_80 = sorted(glob.glob(\"./../runs/20230225_205605_CV_4_malignant_0.8/fold*/results.csv\"))\n",
    "results_cv_4_malignant_80 = []\n",
    "for n, f in enumerate(path_cv_4_malignant_80):\n",
    "    df = pd.read_csv(f)\n",
    "    df[\"fold\"] = n\n",
    "    results_cv_4_malignant_80.append(df)\n",
    "\n",
    "results_cv_4_malignant_80 = pd.concat(results_cv_4_malignant_80).sort_values(by=\"patient_id\")\n",
    "results_cv_4_malignant_80[\"training\"] = \"70%\"\n",
    "print(results_cv_4_malignant_80.shape)\n",
    "results_cv_4_malignant_80.head(3)"
   ]
  },
  {
   "cell_type": "code",
   "execution_count": 134,
   "id": "82b59921",
   "metadata": {
    "ExecuteTime": {
     "end_time": "2023-02-25T20:37:44.345706Z",
     "start_time": "2023-02-25T20:37:44.340565Z"
    }
   },
   "outputs": [
    {
     "name": "stdout",
     "output_type": "stream",
     "text": [
      "DICE: 73.38 +- 5.67\n",
      "Sensitivity: 77.38 +- 3.43\n",
      "Specificity: 95.78 +- 1.61\n",
      "Precision: 76.6 +- 6.66\n",
      "Jaccard: 61.63 +- 6.26\n"
     ]
    }
   ],
   "source": [
    "results = results_cv_4_malignant_80.groupby(\"fold\").mean().reset_index(drop=True)\n",
    "print(f\"DICE: {round(100 * results.DICE.mean(), 2)} +- {round(100 * results.DICE.std(), 2)}\")\n",
    "print(f\"Sensitivity: {round(100 * results.Sensitivity.mean(), 2)} +- {round(100 * results.Sensitivity.std(), 2)}\")\n",
    "print(f\"Specificity: {round(100 * results.Specificity.mean(), 2)} +- {round(100 * results.Specificity.std(), 2)}\")\n",
    "print(f\"Precision: {round(100 * results.Precision.mean(), 2)} +- {round(100 * results.Precision.std(), 2)}\")\n",
    "print(f\"Jaccard: {round(100 * results['Jaccard index'].mean(), 2)} +- {round(100 * results['Jaccard index'].std(), 2)}\")"
   ]
  },
  {
   "cell_type": "code",
   "execution_count": 4,
   "id": "b0911472",
   "metadata": {
    "ExecuteTime": {
     "end_time": "2023-03-09T19:55:05.875571Z",
     "start_time": "2023-03-09T19:55:05.872584Z"
    }
   },
   "outputs": [
    {
     "data": {
      "text/plain": [
       "0.7417317499999999"
      ]
     },
     "execution_count": 4,
     "metadata": {},
     "output_type": "execute_result"
    }
   ],
   "source": [
    "np.mean([0.759593,0.818702,0.657343,0.731289])"
   ]
  },
  {
   "cell_type": "code",
   "execution_count": 5,
   "id": "b96da216",
   "metadata": {
    "ExecuteTime": {
     "end_time": "2023-03-09T19:55:13.099452Z",
     "start_time": "2023-03-09T19:55:13.096497Z"
    }
   },
   "outputs": [
    {
     "data": {
      "text/plain": [
       "0.05803868492382904"
      ]
     },
     "execution_count": 5,
     "metadata": {},
     "output_type": "execute_result"
    }
   ],
   "source": [
    "np.std([0.759593,0.818702,0.657343,0.731289])"
   ]
  },
  {
   "cell_type": "markdown",
   "id": "a994e16c",
   "metadata": {},
   "source": [
    "## 4 folds using 80% batch 8"
   ]
  },
  {
   "cell_type": "code",
   "execution_count": 5,
   "id": "1e15b40d",
   "metadata": {
    "ExecuteTime": {
     "end_time": "2023-02-27T15:35:11.025425Z",
     "start_time": "2023-02-27T15:35:11.014381Z"
    }
   },
   "outputs": [
    {
     "name": "stdout",
     "output_type": "stream",
     "text": [
      "(210, 11)\n"
     ]
    },
    {
     "data": {
      "text/html": [
       "<div>\n",
       "<style scoped>\n",
       "    .dataframe tbody tr th:only-of-type {\n",
       "        vertical-align: middle;\n",
       "    }\n",
       "\n",
       "    .dataframe tbody tr th {\n",
       "        vertical-align: top;\n",
       "    }\n",
       "\n",
       "    .dataframe thead th {\n",
       "        text-align: right;\n",
       "    }\n",
       "</style>\n",
       "<table border=\"1\" class=\"dataframe\">\n",
       "  <thead>\n",
       "    <tr style=\"text-align: right;\">\n",
       "      <th></th>\n",
       "      <th>patient_id</th>\n",
       "      <th>Haussdorf distance</th>\n",
       "      <th>DICE</th>\n",
       "      <th>Sensitivity</th>\n",
       "      <th>Specificity</th>\n",
       "      <th>Accuracy</th>\n",
       "      <th>Jaccard index</th>\n",
       "      <th>Precision</th>\n",
       "      <th>class</th>\n",
       "      <th>fold</th>\n",
       "      <th>training</th>\n",
       "    </tr>\n",
       "  </thead>\n",
       "  <tbody>\n",
       "    <tr>\n",
       "      <th>0</th>\n",
       "      <td>1</td>\n",
       "      <td>11.000000</td>\n",
       "      <td>0.887789</td>\n",
       "      <td>0.906041</td>\n",
       "      <td>0.930898</td>\n",
       "      <td>0.922485</td>\n",
       "      <td>0.798221</td>\n",
       "      <td>0.870258</td>\n",
       "      <td>malignant</td>\n",
       "      <td>2</td>\n",
       "      <td>70%</td>\n",
       "    </tr>\n",
       "    <tr>\n",
       "      <th>0</th>\n",
       "      <td>2</td>\n",
       "      <td>33.301652</td>\n",
       "      <td>0.831428</td>\n",
       "      <td>0.826741</td>\n",
       "      <td>0.916180</td>\n",
       "      <td>0.885681</td>\n",
       "      <td>0.711491</td>\n",
       "      <td>0.836169</td>\n",
       "      <td>malignant</td>\n",
       "      <td>0</td>\n",
       "      <td>70%</td>\n",
       "    </tr>\n",
       "    <tr>\n",
       "      <th>0</th>\n",
       "      <td>3</td>\n",
       "      <td>2.000000</td>\n",
       "      <td>0.814945</td>\n",
       "      <td>0.700803</td>\n",
       "      <td>0.998765</td>\n",
       "      <td>0.980652</td>\n",
       "      <td>0.687685</td>\n",
       "      <td>0.973501</td>\n",
       "      <td>malignant</td>\n",
       "      <td>1</td>\n",
       "      <td>70%</td>\n",
       "    </tr>\n",
       "  </tbody>\n",
       "</table>\n",
       "</div>"
      ],
      "text/plain": [
       "   patient_id  Haussdorf distance      DICE  Sensitivity  Specificity  \\\n",
       "0           1           11.000000  0.887789     0.906041     0.930898   \n",
       "0           2           33.301652  0.831428     0.826741     0.916180   \n",
       "0           3            2.000000  0.814945     0.700803     0.998765   \n",
       "\n",
       "   Accuracy  Jaccard index  Precision      class  fold training  \n",
       "0  0.922485       0.798221   0.870258  malignant     2      70%  \n",
       "0  0.885681       0.711491   0.836169  malignant     0      70%  \n",
       "0  0.980652       0.687685   0.973501  malignant     1      70%  "
      ]
     },
     "execution_count": 5,
     "metadata": {},
     "output_type": "execute_result"
    }
   ],
   "source": [
    "path_cv_4_malignant_80 = sorted(glob.glob(\"./../runs/20230227_160834_CV_4_malignant_0.8_batch_8/fold*/results.csv\"))\n",
    "results_cv_4_malignant_80 = []\n",
    "for n, f in enumerate(path_cv_4_malignant_80):\n",
    "    df = pd.read_csv(f)\n",
    "    df[\"fold\"] = n\n",
    "    results_cv_4_malignant_80.append(df)\n",
    "\n",
    "results_cv_4_malignant_80 = pd.concat(results_cv_4_malignant_80).sort_values(by=\"patient_id\")\n",
    "results_cv_4_malignant_80[\"training\"] = \"70%\"\n",
    "print(results_cv_4_malignant_80.shape)\n",
    "results_cv_4_malignant_80.head(3)"
   ]
  },
  {
   "cell_type": "code",
   "execution_count": 6,
   "id": "7f623523",
   "metadata": {
    "ExecuteTime": {
     "end_time": "2023-02-27T15:35:13.489005Z",
     "start_time": "2023-02-27T15:35:13.485159Z"
    }
   },
   "outputs": [
    {
     "name": "stdout",
     "output_type": "stream",
     "text": [
      "DICE: 72.82 +- 6.57\n",
      "Sensitivity: 77.69 +- 4.4\n",
      "Specificity: 95.43 +- 1.31\n",
      "Precision: 76.12 +- 7.14\n",
      "Jaccard: 61.35 +- 6.71\n"
     ]
    }
   ],
   "source": [
    "results = results_cv_4_malignant_80.groupby(\"fold\").mean().reset_index(drop=True)\n",
    "print(f\"DICE: {round(100 * results.DICE.mean(), 2)} +- {round(100 * results.DICE.std(), 2)}\")\n",
    "print(f\"Sensitivity: {round(100 * results.Sensitivity.mean(), 2)} +- {round(100 * results.Sensitivity.std(), 2)}\")\n",
    "print(f\"Specificity: {round(100 * results.Specificity.mean(), 2)} +- {round(100 * results.Specificity.std(), 2)}\")\n",
    "print(f\"Precision: {round(100 * results.Precision.mean(), 2)} +- {round(100 * results.Precision.std(), 2)}\")\n",
    "print(f\"Jaccard: {round(100 * results['Jaccard index'].mean(), 2)} +- {round(100 * results['Jaccard index'].std(), 2)}\")"
   ]
  },
  {
   "cell_type": "code",
   "execution_count": null,
   "id": "112ebd55",
   "metadata": {},
   "outputs": [],
   "source": []
  },
  {
   "cell_type": "markdown",
   "id": "0207c3fb",
   "metadata": {},
   "source": [
    "## 10 folds using 80%"
   ]
  },
  {
   "cell_type": "code",
   "execution_count": 130,
   "id": "3997356d",
   "metadata": {
    "ExecuteTime": {
     "end_time": "2023-02-25T19:59:50.018328Z",
     "start_time": "2023-02-25T19:59:50.003930Z"
    }
   },
   "outputs": [
    {
     "name": "stdout",
     "output_type": "stream",
     "text": [
      "(210, 11)\n"
     ]
    },
    {
     "data": {
      "text/html": [
       "<div>\n",
       "<style scoped>\n",
       "    .dataframe tbody tr th:only-of-type {\n",
       "        vertical-align: middle;\n",
       "    }\n",
       "\n",
       "    .dataframe tbody tr th {\n",
       "        vertical-align: top;\n",
       "    }\n",
       "\n",
       "    .dataframe thead th {\n",
       "        text-align: right;\n",
       "    }\n",
       "</style>\n",
       "<table border=\"1\" class=\"dataframe\">\n",
       "  <thead>\n",
       "    <tr style=\"text-align: right;\">\n",
       "      <th></th>\n",
       "      <th>patient_id</th>\n",
       "      <th>Haussdorf distance</th>\n",
       "      <th>DICE</th>\n",
       "      <th>Sensitivity</th>\n",
       "      <th>Specificity</th>\n",
       "      <th>Accuracy</th>\n",
       "      <th>Jaccard index</th>\n",
       "      <th>Precision</th>\n",
       "      <th>class</th>\n",
       "      <th>fold</th>\n",
       "      <th>training</th>\n",
       "    </tr>\n",
       "  </thead>\n",
       "  <tbody>\n",
       "    <tr>\n",
       "      <th>0</th>\n",
       "      <td>1</td>\n",
       "      <td>9.486833</td>\n",
       "      <td>0.880175</td>\n",
       "      <td>0.868350</td>\n",
       "      <td>0.946397</td>\n",
       "      <td>0.919983</td>\n",
       "      <td>0.785994</td>\n",
       "      <td>0.892328</td>\n",
       "      <td>malignant</td>\n",
       "      <td>5</td>\n",
       "      <td>70%</td>\n",
       "    </tr>\n",
       "    <tr>\n",
       "      <th>0</th>\n",
       "      <td>2</td>\n",
       "      <td>38.897301</td>\n",
       "      <td>0.885603</td>\n",
       "      <td>0.857705</td>\n",
       "      <td>0.958970</td>\n",
       "      <td>0.924438</td>\n",
       "      <td>0.794693</td>\n",
       "      <td>0.915377</td>\n",
       "      <td>malignant</td>\n",
       "      <td>0</td>\n",
       "      <td>70%</td>\n",
       "    </tr>\n",
       "    <tr>\n",
       "      <th>0</th>\n",
       "      <td>3</td>\n",
       "      <td>4.123106</td>\n",
       "      <td>0.887936</td>\n",
       "      <td>0.831325</td>\n",
       "      <td>0.997336</td>\n",
       "      <td>0.987244</td>\n",
       "      <td>0.798457</td>\n",
       "      <td>0.952819</td>\n",
       "      <td>malignant</td>\n",
       "      <td>4</td>\n",
       "      <td>70%</td>\n",
       "    </tr>\n",
       "  </tbody>\n",
       "</table>\n",
       "</div>"
      ],
      "text/plain": [
       "   patient_id  Haussdorf distance      DICE  Sensitivity  Specificity  \\\n",
       "0           1            9.486833  0.880175     0.868350     0.946397   \n",
       "0           2           38.897301  0.885603     0.857705     0.958970   \n",
       "0           3            4.123106  0.887936     0.831325     0.997336   \n",
       "\n",
       "   Accuracy  Jaccard index  Precision      class  fold training  \n",
       "0  0.919983       0.785994   0.892328  malignant     5      70%  \n",
       "0  0.924438       0.794693   0.915377  malignant     0      70%  \n",
       "0  0.987244       0.798457   0.952819  malignant     4      70%  "
      ]
     },
     "execution_count": 130,
     "metadata": {},
     "output_type": "execute_result"
    }
   ],
   "source": [
    "path_cv_10_malignant_80 = sorted(glob.glob(\"./../runs/20230225_162056_CV_10_malignant_0.8/fold*/results.csv\"))\n",
    "results_cv_10_malignant_80 = []\n",
    "for n, f in enumerate(path_cv_10_malignant_80):\n",
    "    df = pd.read_csv(f)\n",
    "    df[\"fold\"] = n\n",
    "    results_cv_10_malignant_80.append(df)\n",
    "\n",
    "results_cv_10_malignant_80 = pd.concat(results_cv_10_malignant_80).sort_values(by=\"patient_id\")\n",
    "results_cv_10_malignant_80[\"training\"] = \"70%\"\n",
    "print(results_cv_10_malignant_80.shape)\n",
    "results_cv_10_malignant_80.head(3)"
   ]
  },
  {
   "cell_type": "code",
   "execution_count": 131,
   "id": "cf14b163",
   "metadata": {
    "ExecuteTime": {
     "end_time": "2023-02-25T19:59:56.872041Z",
     "start_time": "2023-02-25T19:59:56.867693Z"
    }
   },
   "outputs": [
    {
     "name": "stdout",
     "output_type": "stream",
     "text": [
      "DICE: 74.36 +- 6.53\n",
      "Sensitivity: 78.9 +- 4.61\n",
      "Specificity: 95.53 +- 2.08\n",
      "Precision: 76.44 +- 7.41\n",
      "Jaccard: 62.81 +- 7.12\n"
     ]
    }
   ],
   "source": [
    "results = results_cv_10_malignant_80.groupby(\"fold\").mean().reset_index(drop=True)\n",
    "print(f\"DICE: {round(100 * results.DICE.mean(), 2)} +- {round(100 * results.DICE.std(), 2)}\")\n",
    "print(f\"Sensitivity: {round(100 * results.Sensitivity.mean(), 2)} +- {round(100 * results.Sensitivity.std(), 2)}\")\n",
    "print(f\"Specificity: {round(100 * results.Specificity.mean(), 2)} +- {round(100 * results.Specificity.std(), 2)}\")\n",
    "print(f\"Precision: {round(100 * results.Precision.mean(), 2)} +- {round(100 * results.Precision.std(), 2)}\")\n",
    "print(f\"Jaccard: {round(100 * results['Jaccard index'].mean(), 2)} +- {round(100 * results['Jaccard index'].std(), 2)}\")"
   ]
  },
  {
   "cell_type": "markdown",
   "id": "e4a6bdca",
   "metadata": {},
   "source": [
    "## 10 folds using 70%"
   ]
  },
  {
   "cell_type": "code",
   "execution_count": 126,
   "id": "af81a5ae",
   "metadata": {
    "ExecuteTime": {
     "end_time": "2023-02-25T16:26:42.516134Z",
     "start_time": "2023-02-25T16:26:42.501174Z"
    }
   },
   "outputs": [
    {
     "name": "stdout",
     "output_type": "stream",
     "text": [
      "(210, 11)\n"
     ]
    },
    {
     "data": {
      "text/html": [
       "<div>\n",
       "<style scoped>\n",
       "    .dataframe tbody tr th:only-of-type {\n",
       "        vertical-align: middle;\n",
       "    }\n",
       "\n",
       "    .dataframe tbody tr th {\n",
       "        vertical-align: top;\n",
       "    }\n",
       "\n",
       "    .dataframe thead th {\n",
       "        text-align: right;\n",
       "    }\n",
       "</style>\n",
       "<table border=\"1\" class=\"dataframe\">\n",
       "  <thead>\n",
       "    <tr style=\"text-align: right;\">\n",
       "      <th></th>\n",
       "      <th>patient_id</th>\n",
       "      <th>Haussdorf distance</th>\n",
       "      <th>DICE</th>\n",
       "      <th>Sensitivity</th>\n",
       "      <th>Specificity</th>\n",
       "      <th>Accuracy</th>\n",
       "      <th>Jaccard index</th>\n",
       "      <th>Precision</th>\n",
       "      <th>class</th>\n",
       "      <th>fold</th>\n",
       "      <th>training</th>\n",
       "    </tr>\n",
       "  </thead>\n",
       "  <tbody>\n",
       "    <tr>\n",
       "      <th>0</th>\n",
       "      <td>1</td>\n",
       "      <td>8.062258</td>\n",
       "      <td>0.909641</td>\n",
       "      <td>0.922272</td>\n",
       "      <td>0.946028</td>\n",
       "      <td>0.937988</td>\n",
       "      <td>0.834258</td>\n",
       "      <td>0.897350</td>\n",
       "      <td>malignant</td>\n",
       "      <td>5</td>\n",
       "      <td>70%</td>\n",
       "    </tr>\n",
       "    <tr>\n",
       "      <th>0</th>\n",
       "      <td>2</td>\n",
       "      <td>41.400483</td>\n",
       "      <td>0.838412</td>\n",
       "      <td>0.844639</td>\n",
       "      <td>0.911920</td>\n",
       "      <td>0.888977</td>\n",
       "      <td>0.721780</td>\n",
       "      <td>0.832275</td>\n",
       "      <td>malignant</td>\n",
       "      <td>0</td>\n",
       "      <td>70%</td>\n",
       "    </tr>\n",
       "    <tr>\n",
       "      <th>0</th>\n",
       "      <td>3</td>\n",
       "      <td>2.000000</td>\n",
       "      <td>0.843911</td>\n",
       "      <td>0.740964</td>\n",
       "      <td>0.999025</td>\n",
       "      <td>0.983337</td>\n",
       "      <td>0.729970</td>\n",
       "      <td>0.980080</td>\n",
       "      <td>malignant</td>\n",
       "      <td>4</td>\n",
       "      <td>70%</td>\n",
       "    </tr>\n",
       "  </tbody>\n",
       "</table>\n",
       "</div>"
      ],
      "text/plain": [
       "   patient_id  Haussdorf distance      DICE  Sensitivity  Specificity  \\\n",
       "0           1            8.062258  0.909641     0.922272     0.946028   \n",
       "0           2           41.400483  0.838412     0.844639     0.911920   \n",
       "0           3            2.000000  0.843911     0.740964     0.999025   \n",
       "\n",
       "   Accuracy  Jaccard index  Precision      class  fold training  \n",
       "0  0.937988       0.834258   0.897350  malignant     5      70%  \n",
       "0  0.888977       0.721780   0.832275  malignant     0      70%  \n",
       "0  0.983337       0.729970   0.980080  malignant     4      70%  "
      ]
     },
     "execution_count": 126,
     "metadata": {},
     "output_type": "execute_result"
    }
   ],
   "source": [
    "path_cv_10_malignant_70 = sorted(glob.glob(\"./../runs/20230224_201500_CV_10_malignant_0.7/fold*/results.csv\"))\n",
    "results_cv_10_malignant_70 = []\n",
    "for n, f in enumerate(path_cv_10_malignant_70):\n",
    "    df = pd.read_csv(f)\n",
    "    df[\"fold\"] = n\n",
    "    results_cv_10_malignant_70.append(df)\n",
    "\n",
    "results_cv_10_malignant_70 = pd.concat(results_cv_10_malignant_70).sort_values(by=\"patient_id\")\n",
    "results_cv_10_malignant_70[\"training\"] = \"70%\"\n",
    "print(results_cv_10_malignant_70.shape)\n",
    "results_cv_10_malignant_70.head(3)"
   ]
  },
  {
   "cell_type": "code",
   "execution_count": 127,
   "id": "79d70414",
   "metadata": {
    "ExecuteTime": {
     "end_time": "2023-02-25T16:26:47.130580Z",
     "start_time": "2023-02-25T16:26:47.126113Z"
    }
   },
   "outputs": [
    {
     "name": "stdout",
     "output_type": "stream",
     "text": [
      "DICE: 72.81 +- 6.54\n",
      "Sensitivity: 77.24 +- 5.09\n",
      "Specificity: 95.76 +- 2.14\n",
      "Precision: 77.75 +- 7.75\n",
      "Jaccard: 61.28 +- 6.76\n"
     ]
    }
   ],
   "source": [
    "results = results_cv_10_malignant_70.groupby(\"fold\").mean().reset_index(drop=True)\n",
    "print(f\"DICE: {round(100 * results.DICE.mean(), 2)} +- {round(100 * results.DICE.std(), 2)}\")\n",
    "print(f\"Sensitivity: {round(100 * results.Sensitivity.mean(), 2)} +- {round(100 * results.Sensitivity.std(), 2)}\")\n",
    "print(f\"Specificity: {round(100 * results.Specificity.mean(), 2)} +- {round(100 * results.Specificity.std(), 2)}\")\n",
    "print(f\"Precision: {round(100 * results.Precision.mean(), 2)} +- {round(100 * results.Precision.std(), 2)}\")\n",
    "print(f\"Jaccard: {round(100 * results['Jaccard index'].mean(), 2)} +- {round(100 * results['Jaccard index'].std(), 2)}\")"
   ]
  },
  {
   "cell_type": "markdown",
   "id": "4cc41620",
   "metadata": {},
   "source": [
    "## 4 folds 224 size"
   ]
  },
  {
   "cell_type": "code",
   "execution_count": 7,
   "id": "93fddda8",
   "metadata": {
    "ExecuteTime": {
     "end_time": "2023-02-27T21:54:28.587443Z",
     "start_time": "2023-02-27T21:54:28.577456Z"
    }
   },
   "outputs": [
    {
     "name": "stdout",
     "output_type": "stream",
     "text": [
      "(210, 11)\n"
     ]
    },
    {
     "data": {
      "text/html": [
       "<div>\n",
       "<style scoped>\n",
       "    .dataframe tbody tr th:only-of-type {\n",
       "        vertical-align: middle;\n",
       "    }\n",
       "\n",
       "    .dataframe tbody tr th {\n",
       "        vertical-align: top;\n",
       "    }\n",
       "\n",
       "    .dataframe thead th {\n",
       "        text-align: right;\n",
       "    }\n",
       "</style>\n",
       "<table border=\"1\" class=\"dataframe\">\n",
       "  <thead>\n",
       "    <tr style=\"text-align: right;\">\n",
       "      <th></th>\n",
       "      <th>patient_id</th>\n",
       "      <th>Haussdorf distance</th>\n",
       "      <th>DICE</th>\n",
       "      <th>Sensitivity</th>\n",
       "      <th>Specificity</th>\n",
       "      <th>Accuracy</th>\n",
       "      <th>Jaccard index</th>\n",
       "      <th>Precision</th>\n",
       "      <th>class</th>\n",
       "      <th>fold</th>\n",
       "      <th>training</th>\n",
       "    </tr>\n",
       "  </thead>\n",
       "  <tbody>\n",
       "    <tr>\n",
       "      <th>0</th>\n",
       "      <td>1</td>\n",
       "      <td>15.811388</td>\n",
       "      <td>0.906885</td>\n",
       "      <td>0.904282</td>\n",
       "      <td>0.953602</td>\n",
       "      <td>0.936822</td>\n",
       "      <td>0.829634</td>\n",
       "      <td>0.909503</td>\n",
       "      <td>malignant</td>\n",
       "      <td>2</td>\n",
       "      <td>70%</td>\n",
       "    </tr>\n",
       "    <tr>\n",
       "      <th>0</th>\n",
       "      <td>2</td>\n",
       "      <td>28.442925</td>\n",
       "      <td>0.885103</td>\n",
       "      <td>0.859565</td>\n",
       "      <td>0.957215</td>\n",
       "      <td>0.923928</td>\n",
       "      <td>0.793887</td>\n",
       "      <td>0.912205</td>\n",
       "      <td>malignant</td>\n",
       "      <td>0</td>\n",
       "      <td>70%</td>\n",
       "    </tr>\n",
       "    <tr>\n",
       "      <th>0</th>\n",
       "      <td>3</td>\n",
       "      <td>19.000000</td>\n",
       "      <td>0.743762</td>\n",
       "      <td>0.716037</td>\n",
       "      <td>0.986598</td>\n",
       "      <td>0.970324</td>\n",
       "      <td>0.592055</td>\n",
       "      <td>0.773720</td>\n",
       "      <td>malignant</td>\n",
       "      <td>1</td>\n",
       "      <td>70%</td>\n",
       "    </tr>\n",
       "  </tbody>\n",
       "</table>\n",
       "</div>"
      ],
      "text/plain": [
       "   patient_id  Haussdorf distance      DICE  Sensitivity  Specificity  \\\n",
       "0           1           15.811388  0.906885     0.904282     0.953602   \n",
       "0           2           28.442925  0.885103     0.859565     0.957215   \n",
       "0           3           19.000000  0.743762     0.716037     0.986598   \n",
       "\n",
       "   Accuracy  Jaccard index  Precision      class  fold training  \n",
       "0  0.936822       0.829634   0.909503  malignant     2      70%  \n",
       "0  0.923928       0.793887   0.912205  malignant     0      70%  \n",
       "0  0.970324       0.592055   0.773720  malignant     1      70%  "
      ]
     },
     "execution_count": 7,
     "metadata": {},
     "output_type": "execute_result"
    }
   ],
   "source": [
    "path_cv_4_malignant_80 = sorted(glob.glob(\"./../runs/20230227_205911_CV_4_malignant_0.8_224/fold*/results.csv\"))\n",
    "results_cv_4_malignant_80 = []\n",
    "for n, f in enumerate(path_cv_4_malignant_80):\n",
    "    df = pd.read_csv(f)\n",
    "    df[\"fold\"] = n\n",
    "    results_cv_4_malignant_80.append(df)\n",
    "\n",
    "results_cv_4_malignant_80 = pd.concat(results_cv_4_malignant_80).sort_values(by=\"patient_id\")\n",
    "results_cv_4_malignant_80[\"training\"] = \"70%\"\n",
    "print(results_cv_4_malignant_80.shape)\n",
    "results_cv_4_malignant_80.head(3)"
   ]
  },
  {
   "cell_type": "code",
   "execution_count": 8,
   "id": "4c295601",
   "metadata": {
    "ExecuteTime": {
     "end_time": "2023-02-27T21:54:29.595756Z",
     "start_time": "2023-02-27T21:54:29.591520Z"
    }
   },
   "outputs": [
    {
     "name": "stdout",
     "output_type": "stream",
     "text": [
      "DICE: 71.74 +- 5.95\n",
      "Sensitivity: 75.68 +- 5.22\n",
      "Specificity: 95.14 +- 1.73\n",
      "Precision: 73.45 +- 5.59\n",
      "Jaccard: 60.37 +- 5.9\n"
     ]
    }
   ],
   "source": [
    "results = results_cv_4_malignant_80.groupby(\"fold\").mean().reset_index(drop=True)\n",
    "print(f\"DICE: {round(100 * results.DICE.mean(), 2)} +- {round(100 * results.DICE.std(), 2)}\")\n",
    "print(f\"Sensitivity: {round(100 * results.Sensitivity.mean(), 2)} +- {round(100 * results.Sensitivity.std(), 2)}\")\n",
    "print(f\"Specificity: {round(100 * results.Specificity.mean(), 2)} +- {round(100 * results.Specificity.std(), 2)}\")\n",
    "print(f\"Precision: {round(100 * results.Precision.mean(), 2)} +- {round(100 * results.Precision.std(), 2)}\")\n",
    "print(f\"Jaccard: {round(100 * results['Jaccard index'].mean(), 2)} +- {round(100 * results['Jaccard index'].std(), 2)}\")"
   ]
  },
  {
   "cell_type": "markdown",
   "id": "8227d91e",
   "metadata": {},
   "source": [
    "# ALL"
   ]
  },
  {
   "cell_type": "code",
   "execution_count": 87,
   "id": "b8f13239",
   "metadata": {
    "ExecuteTime": {
     "end_time": "2023-02-25T16:05:43.819378Z",
     "start_time": "2023-02-25T16:05:43.809524Z"
    }
   },
   "outputs": [
    {
     "name": "stdout",
     "output_type": "stream",
     "text": [
      "(647, 10)\n"
     ]
    },
    {
     "data": {
      "text/html": [
       "<div>\n",
       "<style scoped>\n",
       "    .dataframe tbody tr th:only-of-type {\n",
       "        vertical-align: middle;\n",
       "    }\n",
       "\n",
       "    .dataframe tbody tr th {\n",
       "        vertical-align: top;\n",
       "    }\n",
       "\n",
       "    .dataframe thead th {\n",
       "        text-align: right;\n",
       "    }\n",
       "</style>\n",
       "<table border=\"1\" class=\"dataframe\">\n",
       "  <thead>\n",
       "    <tr style=\"text-align: right;\">\n",
       "      <th></th>\n",
       "      <th>patient_id</th>\n",
       "      <th>Haussdorf distance</th>\n",
       "      <th>DICE</th>\n",
       "      <th>Sensitivity</th>\n",
       "      <th>Specificity</th>\n",
       "      <th>Accuracy</th>\n",
       "      <th>Jaccard index</th>\n",
       "      <th>Precision</th>\n",
       "      <th>class</th>\n",
       "      <th>fold</th>\n",
       "    </tr>\n",
       "  </thead>\n",
       "  <tbody>\n",
       "    <tr>\n",
       "      <th>109</th>\n",
       "      <td>1</td>\n",
       "      <td>9.848858</td>\n",
       "      <td>0.887952</td>\n",
       "      <td>0.836069</td>\n",
       "      <td>0.975920</td>\n",
       "      <td>0.928589</td>\n",
       "      <td>0.798484</td>\n",
       "      <td>0.946702</td>\n",
       "      <td>malignant</td>\n",
       "      <td>1</td>\n",
       "    </tr>\n",
       "    <tr>\n",
       "      <th>0</th>\n",
       "      <td>1</td>\n",
       "      <td>1.414214</td>\n",
       "      <td>0.887097</td>\n",
       "      <td>0.916667</td>\n",
       "      <td>0.999449</td>\n",
       "      <td>0.999146</td>\n",
       "      <td>0.797101</td>\n",
       "      <td>0.859375</td>\n",
       "      <td>benign</td>\n",
       "      <td>1</td>\n",
       "    </tr>\n",
       "    <tr>\n",
       "      <th>0</th>\n",
       "      <td>2</td>\n",
       "      <td>1.414214</td>\n",
       "      <td>0.955403</td>\n",
       "      <td>0.955403</td>\n",
       "      <td>0.998355</td>\n",
       "      <td>0.996826</td>\n",
       "      <td>0.914614</td>\n",
       "      <td>0.955403</td>\n",
       "      <td>benign</td>\n",
       "      <td>3</td>\n",
       "    </tr>\n",
       "  </tbody>\n",
       "</table>\n",
       "</div>"
      ],
      "text/plain": [
       "     patient_id  Haussdorf distance      DICE  Sensitivity  Specificity  \\\n",
       "109           1            9.848858  0.887952     0.836069     0.975920   \n",
       "0             1            1.414214  0.887097     0.916667     0.999449   \n",
       "0             2            1.414214  0.955403     0.955403     0.998355   \n",
       "\n",
       "     Accuracy  Jaccard index  Precision      class  fold  \n",
       "109  0.928589       0.798484   0.946702  malignant     1  \n",
       "0    0.999146       0.797101   0.859375     benign     1  \n",
       "0    0.996826       0.914614   0.955403     benign     3  "
      ]
     },
     "execution_count": 87,
     "metadata": {},
     "output_type": "execute_result"
    }
   ],
   "source": [
    "path_cv_4_all_80 = sorted(glob.glob(\"./../runs/20230224_131152_CV_todo/fold*/results.csv\"))\n",
    "results_cv_4_all_80 = []\n",
    "for n, f in enumerate(path_cv_4_all_80):\n",
    "    df = pd.read_csv(f)\n",
    "    df[\"fold\"] = n\n",
    "    results_cv_4_all_80.append(df)\n",
    "\n",
    "results_cv_4_all_80 = pd.concat(results_cv_4_all_80).sort_values(by=\"patient_id\")\n",
    "print(results_cv_4_all_80.shape)\n",
    "results_cv_4_all_80.head(3)"
   ]
  },
  {
   "cell_type": "code",
   "execution_count": 122,
   "id": "124b7efe",
   "metadata": {
    "ExecuteTime": {
     "end_time": "2023-02-25T16:18:14.182767Z",
     "start_time": "2023-02-25T16:18:14.178249Z"
    }
   },
   "outputs": [
    {
     "name": "stdout",
     "output_type": "stream",
     "text": [
      "DICE: 77.59 +- 2.56\n",
      "Sensitivity: 82.05 +- 1.25\n",
      "Specificity: 97.74 +- 0.63\n",
      "Precision: 82.59 +- 3.92\n",
      "Jaccard: 68.79 +- 2.87\n"
     ]
    }
   ],
   "source": [
    "results = results_cv_4_all_80.groupby(\"fold\").mean().reset_index(drop=True)\n",
    "print(f\"DICE: {round(100 * results.DICE.mean(), 2)} +- {round(100 * results.DICE.std(), 2)}\")\n",
    "print(f\"Sensitivity: {round(100 * results.Sensitivity.mean(), 2)} +- {round(100 * results.Sensitivity.std(), 2)}\")\n",
    "print(f\"Specificity: {round(100 * results.Specificity.mean(), 2)} +- {round(100 * results.Specificity.std(), 2)}\")\n",
    "print(f\"Precision: {round(100 * results.Precision.mean(), 2)} +- {round(100 * results.Precision.std(), 2)}\")\n",
    "print(f\"Jaccard: {round(100 * results['Jaccard index'].mean(), 2)} +- {round(100 * results['Jaccard index'].std(), 2)}\")"
   ]
  },
  {
   "cell_type": "code",
   "execution_count": 6,
   "id": "79a01713",
   "metadata": {
    "ExecuteTime": {
     "end_time": "2023-03-09T23:10:01.834159Z",
     "start_time": "2023-03-09T23:10:01.831420Z"
    }
   },
   "outputs": [
    {
     "data": {
      "text/plain": [
       "0.787747"
      ]
     },
     "execution_count": 6,
     "metadata": {},
     "output_type": "execute_result"
    }
   ],
   "source": [
    "np.mean([0.777600, 0.776324, 0.791131, 0.805933])"
   ]
  },
  {
   "cell_type": "code",
   "execution_count": 7,
   "id": "3450ec8a",
   "metadata": {
    "ExecuteTime": {
     "end_time": "2023-03-09T23:10:15.115894Z",
     "start_time": "2023-03-09T23:10:15.112709Z"
    }
   },
   "outputs": [
    {
     "data": {
      "text/plain": [
       "0.011996130521964167"
      ]
     },
     "execution_count": 7,
     "metadata": {},
     "output_type": "execute_result"
    }
   ],
   "source": [
    "np.std([0.777600, 0.776324, 0.791131, 0.805933])"
   ]
  },
  {
   "cell_type": "code",
   "execution_count": null,
   "id": "b4cde46a",
   "metadata": {},
   "outputs": [],
   "source": []
  },
  {
   "cell_type": "code",
   "execution_count": null,
   "id": "6fd85dc7",
   "metadata": {},
   "outputs": [],
   "source": []
  },
  {
   "cell_type": "code",
   "execution_count": null,
   "id": "b2fdd145",
   "metadata": {},
   "outputs": [],
   "source": []
  },
  {
   "cell_type": "code",
   "execution_count": 3,
   "id": "acf83e80",
   "metadata": {
    "ExecuteTime": {
     "end_time": "2023-02-27T15:07:38.652823Z",
     "start_time": "2023-02-27T15:07:38.637192Z"
    }
   },
   "outputs": [
    {
     "name": "stdout",
     "output_type": "stream",
     "text": [
      "(647, 10)\n"
     ]
    },
    {
     "data": {
      "text/html": [
       "<div>\n",
       "<style scoped>\n",
       "    .dataframe tbody tr th:only-of-type {\n",
       "        vertical-align: middle;\n",
       "    }\n",
       "\n",
       "    .dataframe tbody tr th {\n",
       "        vertical-align: top;\n",
       "    }\n",
       "\n",
       "    .dataframe thead th {\n",
       "        text-align: right;\n",
       "    }\n",
       "</style>\n",
       "<table border=\"1\" class=\"dataframe\">\n",
       "  <thead>\n",
       "    <tr style=\"text-align: right;\">\n",
       "      <th></th>\n",
       "      <th>patient_id</th>\n",
       "      <th>Haussdorf distance</th>\n",
       "      <th>DICE</th>\n",
       "      <th>Sensitivity</th>\n",
       "      <th>Specificity</th>\n",
       "      <th>Accuracy</th>\n",
       "      <th>Jaccard index</th>\n",
       "      <th>Precision</th>\n",
       "      <th>class</th>\n",
       "      <th>fold</th>\n",
       "    </tr>\n",
       "  </thead>\n",
       "  <tbody>\n",
       "    <tr>\n",
       "      <th>109</th>\n",
       "      <td>1</td>\n",
       "      <td>5.0</td>\n",
       "      <td>0.910170</td>\n",
       "      <td>0.856988</td>\n",
       "      <td>0.986622</td>\n",
       "      <td>0.942749</td>\n",
       "      <td>0.835149</td>\n",
       "      <td>0.970390</td>\n",
       "      <td>malignant</td>\n",
       "      <td>1</td>\n",
       "    </tr>\n",
       "    <tr>\n",
       "      <th>0</th>\n",
       "      <td>1</td>\n",
       "      <td>2.0</td>\n",
       "      <td>0.874074</td>\n",
       "      <td>0.983333</td>\n",
       "      <td>0.999020</td>\n",
       "      <td>0.998962</td>\n",
       "      <td>0.776316</td>\n",
       "      <td>0.786667</td>\n",
       "      <td>benign</td>\n",
       "      <td>1</td>\n",
       "    </tr>\n",
       "    <tr>\n",
       "      <th>0</th>\n",
       "      <td>2</td>\n",
       "      <td>2.0</td>\n",
       "      <td>0.949827</td>\n",
       "      <td>0.940068</td>\n",
       "      <td>0.998544</td>\n",
       "      <td>0.996460</td>\n",
       "      <td>0.904448</td>\n",
       "      <td>0.959790</td>\n",
       "      <td>benign</td>\n",
       "      <td>3</td>\n",
       "    </tr>\n",
       "  </tbody>\n",
       "</table>\n",
       "</div>"
      ],
      "text/plain": [
       "     patient_id  Haussdorf distance      DICE  Sensitivity  Specificity  \\\n",
       "109           1                 5.0  0.910170     0.856988     0.986622   \n",
       "0             1                 2.0  0.874074     0.983333     0.999020   \n",
       "0             2                 2.0  0.949827     0.940068     0.998544   \n",
       "\n",
       "     Accuracy  Jaccard index  Precision      class  fold  \n",
       "109  0.942749       0.835149   0.970390  malignant     1  \n",
       "0    0.998962       0.776316   0.786667     benign     1  \n",
       "0    0.996460       0.904448   0.959790     benign     3  "
      ]
     },
     "execution_count": 3,
     "metadata": {},
     "output_type": "execute_result"
    }
   ],
   "source": [
    "path_cv_4_all_80 = sorted(glob.glob(\"./../runs/20230227_141909_CV_4_all_0.8/fold*/results.csv\"))\n",
    "results_cv_4_all_80 = []\n",
    "for n, f in enumerate(path_cv_4_all_80):\n",
    "    df = pd.read_csv(f)\n",
    "    df[\"fold\"] = n\n",
    "    results_cv_4_all_80.append(df)\n",
    "\n",
    "results_cv_4_all_80 = pd.concat(results_cv_4_all_80).sort_values(by=\"patient_id\")\n",
    "print(results_cv_4_all_80.shape)\n",
    "results_cv_4_all_80.head(3)"
   ]
  },
  {
   "cell_type": "code",
   "execution_count": 4,
   "id": "ea61d6b7",
   "metadata": {
    "ExecuteTime": {
     "end_time": "2023-02-27T15:07:39.585166Z",
     "start_time": "2023-02-27T15:07:39.569590Z"
    }
   },
   "outputs": [
    {
     "name": "stdout",
     "output_type": "stream",
     "text": [
      "DICE: 77.91 +- 2.87\n",
      "Sensitivity: 82.23 +- 2.71\n",
      "Specificity: 97.93 +- 0.47\n",
      "Precision: 83.31 +- 2.52\n",
      "Jaccard: 69.03 +- 3.2\n"
     ]
    }
   ],
   "source": [
    "results = results_cv_4_all_80.groupby(\"fold\").mean().reset_index(drop=True)\n",
    "print(f\"DICE: {round(100 * results.DICE.mean(), 2)} +- {round(100 * results.DICE.std(), 2)}\")\n",
    "print(f\"Sensitivity: {round(100 * results.Sensitivity.mean(), 2)} +- {round(100 * results.Sensitivity.std(), 2)}\")\n",
    "print(f\"Specificity: {round(100 * results.Specificity.mean(), 2)} +- {round(100 * results.Specificity.std(), 2)}\")\n",
    "print(f\"Precision: {round(100 * results.Precision.mean(), 2)} +- {round(100 * results.Precision.std(), 2)}\")\n",
    "print(f\"Jaccard: {round(100 * results['Jaccard index'].mean(), 2)} +- {round(100 * results['Jaccard index'].std(), 2)}\")"
   ]
  },
  {
   "cell_type": "markdown",
   "id": "a4dc66f7",
   "metadata": {},
   "source": [
    "# All + normal"
   ]
  },
  {
   "cell_type": "code",
   "execution_count": 14,
   "id": "631e9d21",
   "metadata": {
    "ExecuteTime": {
     "end_time": "2023-03-10T21:49:32.284434Z",
     "start_time": "2023-03-10T21:49:32.271364Z"
    }
   },
   "outputs": [
    {
     "name": "stdout",
     "output_type": "stream",
     "text": [
      "(780, 10)\n"
     ]
    },
    {
     "data": {
      "text/html": [
       "<div>\n",
       "<style scoped>\n",
       "    .dataframe tbody tr th:only-of-type {\n",
       "        vertical-align: middle;\n",
       "    }\n",
       "\n",
       "    .dataframe tbody tr th {\n",
       "        vertical-align: top;\n",
       "    }\n",
       "\n",
       "    .dataframe thead th {\n",
       "        text-align: right;\n",
       "    }\n",
       "</style>\n",
       "<table border=\"1\" class=\"dataframe\">\n",
       "  <thead>\n",
       "    <tr style=\"text-align: right;\">\n",
       "      <th></th>\n",
       "      <th>patient_id</th>\n",
       "      <th>Haussdorf distance</th>\n",
       "      <th>DICE</th>\n",
       "      <th>Sensitivity</th>\n",
       "      <th>Specificity</th>\n",
       "      <th>Accuracy</th>\n",
       "      <th>Jaccard index</th>\n",
       "      <th>Precision</th>\n",
       "      <th>class</th>\n",
       "      <th>fold</th>\n",
       "    </tr>\n",
       "  </thead>\n",
       "  <tbody>\n",
       "    <tr>\n",
       "      <th>109</th>\n",
       "      <td>1</td>\n",
       "      <td>9.0</td>\n",
       "      <td>0.891726</td>\n",
       "      <td>0.875564</td>\n",
       "      <td>0.954885</td>\n",
       "      <td>0.928040</td>\n",
       "      <td>0.804607</td>\n",
       "      <td>0.908496</td>\n",
       "      <td>malignant</td>\n",
       "      <td>1</td>\n",
       "    </tr>\n",
       "    <tr>\n",
       "      <th>162</th>\n",
       "      <td>1</td>\n",
       "      <td>NaN</td>\n",
       "      <td>0.000000</td>\n",
       "      <td>NaN</td>\n",
       "      <td>0.899231</td>\n",
       "      <td>0.899231</td>\n",
       "      <td>0.000000</td>\n",
       "      <td>NaN</td>\n",
       "      <td>normal</td>\n",
       "      <td>2</td>\n",
       "    </tr>\n",
       "    <tr>\n",
       "      <th>0</th>\n",
       "      <td>1</td>\n",
       "      <td>2.0</td>\n",
       "      <td>0.881890</td>\n",
       "      <td>0.933333</td>\n",
       "      <td>0.999326</td>\n",
       "      <td>0.999084</td>\n",
       "      <td>0.788732</td>\n",
       "      <td>0.835821</td>\n",
       "      <td>benign</td>\n",
       "      <td>1</td>\n",
       "    </tr>\n",
       "  </tbody>\n",
       "</table>\n",
       "</div>"
      ],
      "text/plain": [
       "     patient_id  Haussdorf distance      DICE  Sensitivity  Specificity  \\\n",
       "109           1                 9.0  0.891726     0.875564     0.954885   \n",
       "162           1                 NaN  0.000000          NaN     0.899231   \n",
       "0             1                 2.0  0.881890     0.933333     0.999326   \n",
       "\n",
       "     Accuracy  Jaccard index  Precision      class  fold  \n",
       "109  0.928040       0.804607   0.908496  malignant     1  \n",
       "162  0.899231       0.000000        NaN     normal     2  \n",
       "0    0.999084       0.788732   0.835821     benign     1  "
      ]
     },
     "execution_count": 14,
     "metadata": {},
     "output_type": "execute_result"
    }
   ],
   "source": [
    "normal = sorted(glob.glob(\"./../runs/20230310_174428_normal/fold*/results.csv\"))\n",
    "results_normal = []\n",
    "for n, f in enumerate(normal):\n",
    "    df = pd.read_csv(f)\n",
    "    df[\"fold\"] = n\n",
    "    results_normal.append(df)\n",
    "\n",
    "results_normal = pd.concat(results_normal).sort_values(by=\"patient_id\")\n",
    "print(results_normal.shape)\n",
    "results_normal.head(3)"
   ]
  },
  {
   "cell_type": "code",
   "execution_count": 15,
   "id": "8bb1b4c9",
   "metadata": {
    "ExecuteTime": {
     "end_time": "2023-03-10T21:49:36.225947Z",
     "start_time": "2023-03-10T21:49:36.221369Z"
    }
   },
   "outputs": [
    {
     "name": "stdout",
     "output_type": "stream",
     "text": [
      "DICE: 68.78 +- 6.73\n",
      "Sensitivity: 81.98 +- 2.05\n",
      "Specificity: 97.08 +- 1.37\n",
      "Precision: 82.05 +- 4.46\n",
      "Jaccard: 61.37 +- 7.12\n"
     ]
    }
   ],
   "source": [
    "results = results_normal.groupby(\"fold\").mean().reset_index(drop=True)\n",
    "print(f\"DICE: {round(100 * results.DICE.mean(), 2)} +- {round(100 * results.DICE.std(), 2)}\")\n",
    "print(f\"Sensitivity: {round(100 * results.Sensitivity.mean(), 2)} +- {round(100 * results.Sensitivity.std(), 2)}\")\n",
    "print(f\"Specificity: {round(100 * results.Specificity.mean(), 2)} +- {round(100 * results.Specificity.std(), 2)}\")\n",
    "print(f\"Precision: {round(100 * results.Precision.mean(), 2)} +- {round(100 * results.Precision.std(), 2)}\")\n",
    "print(f\"Jaccard: {round(100 * results['Jaccard index'].mean(), 2)} +- {round(100 * results['Jaccard index'].std(), 2)}\")"
   ]
  },
  {
   "cell_type": "code",
   "execution_count": 16,
   "id": "278a95c7",
   "metadata": {
    "ExecuteTime": {
     "end_time": "2023-03-10T21:51:51.287071Z",
     "start_time": "2023-03-10T21:51:51.282247Z"
    }
   },
   "outputs": [
    {
     "data": {
      "text/html": [
       "<div>\n",
       "<style scoped>\n",
       "    .dataframe tbody tr th:only-of-type {\n",
       "        vertical-align: middle;\n",
       "    }\n",
       "\n",
       "    .dataframe tbody tr th {\n",
       "        vertical-align: top;\n",
       "    }\n",
       "\n",
       "    .dataframe thead th {\n",
       "        text-align: right;\n",
       "    }\n",
       "</style>\n",
       "<table border=\"1\" class=\"dataframe\">\n",
       "  <thead>\n",
       "    <tr style=\"text-align: right;\">\n",
       "      <th></th>\n",
       "      <th>patient_id</th>\n",
       "      <th>Haussdorf distance</th>\n",
       "      <th>DICE</th>\n",
       "      <th>Sensitivity</th>\n",
       "      <th>Specificity</th>\n",
       "      <th>Accuracy</th>\n",
       "      <th>Jaccard index</th>\n",
       "      <th>Precision</th>\n",
       "    </tr>\n",
       "  </thead>\n",
       "  <tbody>\n",
       "    <tr>\n",
       "      <th>0</th>\n",
       "      <td>151.594872</td>\n",
       "      <td>10.806075</td>\n",
       "      <td>0.764658</td>\n",
       "      <td>0.843481</td>\n",
       "      <td>0.980884</td>\n",
       "      <td>0.966931</td>\n",
       "      <td>0.694566</td>\n",
       "      <td>0.836071</td>\n",
       "    </tr>\n",
       "    <tr>\n",
       "      <th>1</th>\n",
       "      <td>165.841026</td>\n",
       "      <td>11.827720</td>\n",
       "      <td>0.723065</td>\n",
       "      <td>0.796841</td>\n",
       "      <td>0.983952</td>\n",
       "      <td>0.960417</td>\n",
       "      <td>0.652354</td>\n",
       "      <td>0.873299</td>\n",
       "    </tr>\n",
       "    <tr>\n",
       "      <th>2</th>\n",
       "      <td>164.220513</td>\n",
       "      <td>17.861697</td>\n",
       "      <td>0.623361</td>\n",
       "      <td>0.810080</td>\n",
       "      <td>0.956074</td>\n",
       "      <td>0.939825</td>\n",
       "      <td>0.550584</td>\n",
       "      <td>0.768825</td>\n",
       "    </tr>\n",
       "    <tr>\n",
       "      <th>3</th>\n",
       "      <td>168.441026</td>\n",
       "      <td>15.173692</td>\n",
       "      <td>0.640079</td>\n",
       "      <td>0.828645</td>\n",
       "      <td>0.962426</td>\n",
       "      <td>0.946171</td>\n",
       "      <td>0.557339</td>\n",
       "      <td>0.803918</td>\n",
       "    </tr>\n",
       "  </tbody>\n",
       "</table>\n",
       "</div>"
      ],
      "text/plain": [
       "   patient_id  Haussdorf distance      DICE  Sensitivity  Specificity  \\\n",
       "0  151.594872           10.806075  0.764658     0.843481     0.980884   \n",
       "1  165.841026           11.827720  0.723065     0.796841     0.983952   \n",
       "2  164.220513           17.861697  0.623361     0.810080     0.956074   \n",
       "3  168.441026           15.173692  0.640079     0.828645     0.962426   \n",
       "\n",
       "   Accuracy  Jaccard index  Precision  \n",
       "0  0.966931       0.694566   0.836071  \n",
       "1  0.960417       0.652354   0.873299  \n",
       "2  0.939825       0.550584   0.768825  \n",
       "3  0.946171       0.557339   0.803918  "
      ]
     },
     "execution_count": 16,
     "metadata": {},
     "output_type": "execute_result"
    }
   ],
   "source": [
    "results"
   ]
  },
  {
   "cell_type": "code",
   "execution_count": null,
   "id": "e9b12571",
   "metadata": {},
   "outputs": [],
   "source": []
  }
 ],
 "metadata": {
  "hide_input": false,
  "kernelspec": {
   "display_name": "Python 3 (ipykernel)",
   "language": "python",
   "name": "python3"
  },
  "language_info": {
   "codemirror_mode": {
    "name": "ipython",
    "version": 3
   },
   "file_extension": ".py",
   "mimetype": "text/x-python",
   "name": "python",
   "nbconvert_exporter": "python",
   "pygments_lexer": "ipython3",
   "version": "3.9.12"
  },
  "toc": {
   "base_numbering": 1,
   "nav_menu": {},
   "number_sections": true,
   "sideBar": true,
   "skip_h1_title": false,
   "title_cell": "Table of Contents",
   "title_sidebar": "Contents",
   "toc_cell": false,
   "toc_position": {
    "height": "calc(100% - 180px)",
    "left": "10px",
    "top": "150px",
    "width": "369.188px"
   },
   "toc_section_display": true,
   "toc_window_display": true
  },
  "varInspector": {
   "cols": {
    "lenName": 16,
    "lenType": 16,
    "lenVar": 40
   },
   "kernels_config": {
    "python": {
     "delete_cmd_postfix": "",
     "delete_cmd_prefix": "del ",
     "library": "var_list.py",
     "varRefreshCmd": "print(var_dic_list())"
    },
    "r": {
     "delete_cmd_postfix": ") ",
     "delete_cmd_prefix": "rm(",
     "library": "var_list.r",
     "varRefreshCmd": "cat(var_dic_list()) "
    }
   },
   "types_to_exclude": [
    "module",
    "function",
    "builtin_function_or_method",
    "instance",
    "_Feature"
   ],
   "window_display": false
  }
 },
 "nbformat": 4,
 "nbformat_minor": 5
}
