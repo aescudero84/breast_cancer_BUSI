{
 "cells": [
  {
   "cell_type": "code",
   "execution_count": 1,
   "id": "b2d94114",
   "metadata": {
    "ExecuteTime": {
     "end_time": "2023-02-25T20:05:32.033641Z",
     "start_time": "2023-02-25T20:05:31.617301Z"
    }
   },
   "outputs": [],
   "source": [
    "import pandas as pd\n",
    "import os\n",
    "import glob\n",
    "import seaborn as sns\n",
    "import matplotlib.pyplot as plt"
   ]
  },
  {
   "cell_type": "markdown",
   "id": "80aeb6d8",
   "metadata": {},
   "source": [
    "# Benign"
   ]
  },
  {
   "cell_type": "markdown",
   "id": "ff1d6ade",
   "metadata": {},
   "source": [
    "## 4 folds using 80%"
   ]
  },
  {
   "cell_type": "code",
   "execution_count": 45,
   "id": "0319b527",
   "metadata": {
    "ExecuteTime": {
     "end_time": "2023-02-25T23:20:22.469266Z",
     "start_time": "2023-02-25T23:20:22.458402Z"
    }
   },
   "outputs": [
    {
     "data": {
      "text/html": [
       "<div>\n",
       "<style scoped>\n",
       "    .dataframe tbody tr th:only-of-type {\n",
       "        vertical-align: middle;\n",
       "    }\n",
       "\n",
       "    .dataframe tbody tr th {\n",
       "        vertical-align: top;\n",
       "    }\n",
       "\n",
       "    .dataframe thead th {\n",
       "        text-align: right;\n",
       "    }\n",
       "</style>\n",
       "<table border=\"1\" class=\"dataframe\">\n",
       "  <thead>\n",
       "    <tr style=\"text-align: right;\">\n",
       "      <th></th>\n",
       "      <th>architecture</th>\n",
       "      <th>Jaccard index</th>\n",
       "      <th>Precision</th>\n",
       "      <th>Sensitivity</th>\n",
       "      <th>Specificity</th>\n",
       "      <th>DICE</th>\n",
       "    </tr>\n",
       "  </thead>\n",
       "  <tbody>\n",
       "    <tr>\n",
       "      <th>0</th>\n",
       "      <td>Unet 24</td>\n",
       "      <td>0.368000</td>\n",
       "      <td>0.384937</td>\n",
       "      <td>0.893204</td>\n",
       "      <td>0.990971</td>\n",
       "      <td>0.538012</td>\n",
       "    </tr>\n",
       "    <tr>\n",
       "      <th>1</th>\n",
       "      <td>Unet 24</td>\n",
       "      <td>0.866995</td>\n",
       "      <td>0.941176</td>\n",
       "      <td>0.916667</td>\n",
       "      <td>0.999321</td>\n",
       "      <td>0.928760</td>\n",
       "    </tr>\n",
       "    <tr>\n",
       "      <th>2</th>\n",
       "      <td>Unet 24</td>\n",
       "      <td>0.640566</td>\n",
       "      <td>0.974175</td>\n",
       "      <td>0.651631</td>\n",
       "      <td>0.995927</td>\n",
       "      <td>0.780909</td>\n",
       "    </tr>\n",
       "    <tr>\n",
       "      <th>3</th>\n",
       "      <td>Unet 24</td>\n",
       "      <td>0.574468</td>\n",
       "      <td>0.638298</td>\n",
       "      <td>0.851735</td>\n",
       "      <td>0.990477</td>\n",
       "      <td>0.729730</td>\n",
       "    </tr>\n",
       "    <tr>\n",
       "      <th>4</th>\n",
       "      <td>Unet 24</td>\n",
       "      <td>0.890909</td>\n",
       "      <td>0.907407</td>\n",
       "      <td>0.980000</td>\n",
       "      <td>0.999076</td>\n",
       "      <td>0.942308</td>\n",
       "    </tr>\n",
       "    <tr>\n",
       "      <th>...</th>\n",
       "      <td>...</td>\n",
       "      <td>...</td>\n",
       "      <td>...</td>\n",
       "      <td>...</td>\n",
       "      <td>...</td>\n",
       "      <td>...</td>\n",
       "    </tr>\n",
       "    <tr>\n",
       "      <th>60</th>\n",
       "      <td>BTS_FSB_UNet 24</td>\n",
       "      <td>0.738849</td>\n",
       "      <td>0.889732</td>\n",
       "      <td>0.813324</td>\n",
       "      <td>0.945292</td>\n",
       "      <td>0.849814</td>\n",
       "    </tr>\n",
       "    <tr>\n",
       "      <th>61</th>\n",
       "      <td>BTS_FSB_UNet 24</td>\n",
       "      <td>0.524345</td>\n",
       "      <td>0.542636</td>\n",
       "      <td>0.939597</td>\n",
       "      <td>0.977788</td>\n",
       "      <td>0.687961</td>\n",
       "    </tr>\n",
       "    <tr>\n",
       "      <th>62</th>\n",
       "      <td>BTS_FSB_UNet 24</td>\n",
       "      <td>0.626928</td>\n",
       "      <td>0.984581</td>\n",
       "      <td>0.633144</td>\n",
       "      <td>0.999554</td>\n",
       "      <td>0.770690</td>\n",
       "    </tr>\n",
       "    <tr>\n",
       "      <th>63</th>\n",
       "      <td>BTS_FSB_UNet 24</td>\n",
       "      <td>0.581784</td>\n",
       "      <td>0.934328</td>\n",
       "      <td>0.606589</td>\n",
       "      <td>0.997134</td>\n",
       "      <td>0.735605</td>\n",
       "    </tr>\n",
       "    <tr>\n",
       "      <th>64</th>\n",
       "      <td>BTS_FSB_UNet 24</td>\n",
       "      <td>0.906394</td>\n",
       "      <td>0.948404</td>\n",
       "      <td>0.953407</td>\n",
       "      <td>0.991637</td>\n",
       "      <td>0.950899</td>\n",
       "    </tr>\n",
       "  </tbody>\n",
       "</table>\n",
       "<p>325 rows × 6 columns</p>\n",
       "</div>"
      ],
      "text/plain": [
       "       architecture  Jaccard index  Precision  Sensitivity  Specificity  \\\n",
       "0           Unet 24       0.368000   0.384937     0.893204     0.990971   \n",
       "1           Unet 24       0.866995   0.941176     0.916667     0.999321   \n",
       "2           Unet 24       0.640566   0.974175     0.651631     0.995927   \n",
       "3           Unet 24       0.574468   0.638298     0.851735     0.990477   \n",
       "4           Unet 24       0.890909   0.907407     0.980000     0.999076   \n",
       "..              ...            ...        ...          ...          ...   \n",
       "60  BTS_FSB_UNet 24       0.738849   0.889732     0.813324     0.945292   \n",
       "61  BTS_FSB_UNet 24       0.524345   0.542636     0.939597     0.977788   \n",
       "62  BTS_FSB_UNet 24       0.626928   0.984581     0.633144     0.999554   \n",
       "63  BTS_FSB_UNet 24       0.581784   0.934328     0.606589     0.997134   \n",
       "64  BTS_FSB_UNet 24       0.906394   0.948404     0.953407     0.991637   \n",
       "\n",
       "        DICE  \n",
       "0   0.538012  \n",
       "1   0.928760  \n",
       "2   0.780909  \n",
       "3   0.729730  \n",
       "4   0.942308  \n",
       "..       ...  \n",
       "60  0.849814  \n",
       "61  0.687961  \n",
       "62  0.770690  \n",
       "63  0.735605  \n",
       "64  0.950899  \n",
       "\n",
       "[325 rows x 6 columns]"
      ]
     },
     "execution_count": 45,
     "metadata": {},
     "output_type": "execute_result"
    }
   ],
   "source": [
    "df_unet_24 = pd.read_csv(\"./../runs/20230224_093327_UNet_24/results.csv\")\n",
    "df_unet_24[\"architecture\"] = \"Unet 24\"\n",
    "\n",
    "# df_unet_48 = pd.read_csv(\"./../runs/20230224_094641_UNet_48/results.csv\")\n",
    "# df_unet_48[\"architecture\"] = \"Unet 48\"\n",
    "\n",
    "df_vnet_24 = pd.read_csv(\"./../runs/20230224_100317_VNet24/results.csv\")\n",
    "df_vnet_24[\"architecture\"] = \"Vnet 24\"\n",
    "\n",
    "# df_vnet_48 = pd.read_csv(\"./../runs/20230224_101604_VNet_48/results.csv\")\n",
    "# df_vnet_48[\"architecture\"] = \"Vnet 48\"\n",
    "\n",
    "df_SegResNet_24 = pd.read_csv(\"./../runs/20230224_113332_SegResNet_24/results.csv\")\n",
    "df_SegResNet_24[\"architecture\"] = \"SegResNet 24\"\n",
    "\n",
    "# df_SegResNet_48 = pd.read_csv(\"./../runs/20230224_104752_SegResNet_48/results.csv\")\n",
    "# df_SegResNet_48[\"architecture\"] = \"SegResNet 48\"\n",
    "\n",
    "df_BTS_UNet_24 = pd.read_csv(\"./../runs/20230225_213835_BTS_UNet/results.csv\")\n",
    "df_BTS_UNet_24[\"architecture\"] = \"BTS_UNet 24\"\n",
    "\n",
    "df_BTS_FSB_UNet_24 = pd.read_csv(\"./../runs/20230225_215806_BTS_FSB/results.csv\")\n",
    "df_BTS_FSB_UNet_24[\"architecture\"] = \"BTS_FSB_UNet 24\"\n",
    "\n",
    "\n",
    "df = pd.concat([df_unet_24, df_vnet_24, df_SegResNet_24, df_BTS_UNet_24, df_BTS_FSB_UNet_24])\n",
    "df = df[['architecture', 'Jaccard index', 'Precision', 'Sensitivity', 'Specificity', 'DICE']]\n",
    "df"
   ]
  },
  {
   "cell_type": "code",
   "execution_count": 46,
   "id": "2eef9f65",
   "metadata": {
    "ExecuteTime": {
     "end_time": "2023-02-25T23:20:25.568608Z",
     "start_time": "2023-02-25T23:20:25.563063Z"
    }
   },
   "outputs": [
    {
     "data": {
      "text/html": [
       "<div>\n",
       "<style scoped>\n",
       "    .dataframe tbody tr th:only-of-type {\n",
       "        vertical-align: middle;\n",
       "    }\n",
       "\n",
       "    .dataframe tbody tr th {\n",
       "        vertical-align: top;\n",
       "    }\n",
       "\n",
       "    .dataframe thead th {\n",
       "        text-align: right;\n",
       "    }\n",
       "</style>\n",
       "<table border=\"1\" class=\"dataframe\">\n",
       "  <thead>\n",
       "    <tr style=\"text-align: right;\">\n",
       "      <th></th>\n",
       "      <th>architecture</th>\n",
       "      <th>Jaccard index</th>\n",
       "      <th>Precision</th>\n",
       "      <th>Sensitivity</th>\n",
       "      <th>Specificity</th>\n",
       "      <th>DICE</th>\n",
       "    </tr>\n",
       "  </thead>\n",
       "  <tbody>\n",
       "    <tr>\n",
       "      <th>0</th>\n",
       "      <td>BTS_FSB_UNet 24</td>\n",
       "      <td>72.127647</td>\n",
       "      <td>85.167723</td>\n",
       "      <td>82.639084</td>\n",
       "      <td>98.178302</td>\n",
       "      <td>81.555216</td>\n",
       "    </tr>\n",
       "    <tr>\n",
       "      <th>1</th>\n",
       "      <td>BTS_UNet 24</td>\n",
       "      <td>71.345627</td>\n",
       "      <td>83.283203</td>\n",
       "      <td>82.521456</td>\n",
       "      <td>97.894900</td>\n",
       "      <td>80.198778</td>\n",
       "    </tr>\n",
       "    <tr>\n",
       "      <th>2</th>\n",
       "      <td>SegResNet 24</td>\n",
       "      <td>67.122538</td>\n",
       "      <td>77.873595</td>\n",
       "      <td>85.955963</td>\n",
       "      <td>96.734445</td>\n",
       "      <td>77.274404</td>\n",
       "    </tr>\n",
       "    <tr>\n",
       "      <th>3</th>\n",
       "      <td>Unet 24</td>\n",
       "      <td>59.619926</td>\n",
       "      <td>75.377300</td>\n",
       "      <td>75.955144</td>\n",
       "      <td>96.460918</td>\n",
       "      <td>71.679944</td>\n",
       "    </tr>\n",
       "    <tr>\n",
       "      <th>4</th>\n",
       "      <td>Vnet 24</td>\n",
       "      <td>32.354343</td>\n",
       "      <td>55.096170</td>\n",
       "      <td>71.630574</td>\n",
       "      <td>95.563926</td>\n",
       "      <td>44.431245</td>\n",
       "    </tr>\n",
       "  </tbody>\n",
       "</table>\n",
       "</div>"
      ],
      "text/plain": [
       "      architecture  Jaccard index  Precision  Sensitivity  Specificity  \\\n",
       "0  BTS_FSB_UNet 24      72.127647  85.167723    82.639084    98.178302   \n",
       "1      BTS_UNet 24      71.345627  83.283203    82.521456    97.894900   \n",
       "2     SegResNet 24      67.122538  77.873595    85.955963    96.734445   \n",
       "3          Unet 24      59.619926  75.377300    75.955144    96.460918   \n",
       "4          Vnet 24      32.354343  55.096170    71.630574    95.563926   \n",
       "\n",
       "        DICE  \n",
       "0  81.555216  \n",
       "1  80.198778  \n",
       "2  77.274404  \n",
       "3  71.679944  \n",
       "4  44.431245  "
      ]
     },
     "execution_count": 46,
     "metadata": {},
     "output_type": "execute_result"
    }
   ],
   "source": [
    "results = 100 *df.groupby([\"architecture\"]).mean()\n",
    "results = results.reset_index()\n",
    "results"
   ]
  },
  {
   "cell_type": "code",
   "execution_count": null,
   "id": "18a729d3",
   "metadata": {},
   "outputs": [],
   "source": []
  },
  {
   "cell_type": "code",
   "execution_count": null,
   "id": "8475ab05",
   "metadata": {},
   "outputs": [],
   "source": []
  },
  {
   "cell_type": "code",
   "execution_count": null,
   "id": "7900e369",
   "metadata": {},
   "outputs": [],
   "source": []
  },
  {
   "cell_type": "code",
   "execution_count": 48,
   "id": "bd240a02",
   "metadata": {
    "ExecuteTime": {
     "end_time": "2023-02-25T23:26:01.765492Z",
     "start_time": "2023-02-25T23:26:01.700345Z"
    }
   },
   "outputs": [
    {
     "data": {
      "image/png": "[encoded data removed]",
      "text/plain": [
       "<Figure size 1152x576 with 1 Axes>"
      ]
     },
     "metadata": {
      "needs_background": "light"
     },
     "output_type": "display_data"
    }
   ],
   "source": [
    "fig = plt.figure(figsize=(16, 8))\n",
    "sns.boxplot(data=df, x=\"architecture\", y=\"DICE\", showfliers=False)\n",
    "sns.stripplot(data=df, x=\"architecture\", y=\"DICE\", color='black', alpha=.5)\n",
    "sns.despine()\n",
    "plt.show()"
   ]
  },
  {
   "cell_type": "code",
   "execution_count": null,
   "id": "acf83e80",
   "metadata": {},
   "outputs": [],
   "source": []
  }
 ],
 "metadata": {
  "hide_input": false,
  "kernelspec": {
   "display_name": "Python 3 (ipykernel)",
   "language": "python",
   "name": "python3"
  },
  "language_info": {
   "codemirror_mode": {
    "name": "ipython",
    "version": 3
   },
   "file_extension": ".py",
   "mimetype": "text/x-python",
   "name": "python",
   "nbconvert_exporter": "python",
   "pygments_lexer": "ipython3",
   "version": "3.9.12"
  },
  "toc": {
   "base_numbering": 1,
   "nav_menu": {},
   "number_sections": true,
   "sideBar": true,
   "skip_h1_title": false,
   "title_cell": "Table of Contents",
   "title_sidebar": "Contents",
   "toc_cell": false,
   "toc_position": {
    "height": "calc(100% - 180px)",
    "left": "10px",
    "top": "150px",
    "width": "369.188px"
   },
   "toc_section_display": true,
   "toc_window_display": true
  },
  "varInspector": {
   "cols": {
    "lenName": 16,
    "lenType": 16,
    "lenVar": 40
   },
   "kernels_config": {
    "python": {
     "delete_cmd_postfix": "",
     "delete_cmd_prefix": "del ",
     "library": "var_list.py",
     "varRefreshCmd": "print(var_dic_list())"
    },
    "r": {
     "delete_cmd_postfix": ") ",
     "delete_cmd_prefix": "rm(",
     "library": "var_list.r",
     "varRefreshCmd": "cat(var_dic_list()) "
    }
   },
   "types_to_exclude": [
    "module",
    "function",
    "builtin_function_or_method",
    "instance",
    "_Feature"
   ],
   "window_display": false
  }
 },
 "nbformat": 4,
 "nbformat_minor": 5
}
