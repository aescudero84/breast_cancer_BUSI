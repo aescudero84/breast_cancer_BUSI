{
 "cells": [
  {
   "cell_type": "code",
   "execution_count": 1,
   "id": "93263a67",
   "metadata": {
    "ExecuteTime": {
     "end_time": "2023-12-02T10:46:58.166671Z",
     "start_time": "2023-12-02T10:46:58.164537Z"
    }
   },
   "outputs": [],
   "source": [
    "import os\n",
    "os.chdir(\"./..\")"
   ]
  },
  {
   "cell_type": "code",
   "execution_count": 64,
   "id": "328020d5",
   "metadata": {
    "ExecuteTime": {
     "end_time": "2023-12-03T19:44:14.318024Z",
     "start_time": "2023-12-03T19:44:14.315564Z"
    }
   },
   "outputs": [],
   "source": [
    "from pathlib import Path\n",
    "from torchvision import datasets, transforms\n",
    "from torch.utils.data import DataLoader\n",
    "import torch"
   ]
  },
  {
   "cell_type": "code",
   "execution_count": 5,
   "id": "e36bd05a",
   "metadata": {
    "ExecuteTime": {
     "end_time": "2023-12-02T10:50:04.824313Z",
     "start_time": "2023-12-02T10:50:04.217548Z"
    }
   },
   "outputs": [],
   "source": [
    "from src.utils.models import load_pretrained_model\n",
    "from src.utils.experiment_init import init_segmentation_model"
   ]
  },
  {
   "cell_type": "code",
   "execution_count": 12,
   "id": "239344d5",
   "metadata": {
    "ExecuteTime": {
     "end_time": "2023-12-02T11:06:18.876218Z",
     "start_time": "2023-12-02T11:06:17.949449Z"
    }
   },
   "outputs": [],
   "source": [
    "model = init_segmentation_model(architecture=\"FSB_BTS_UNet__\",\n",
    "                                sequences=1,\n",
    "                                width=24, \n",
    "                                deep_supervision=True,\n",
    "                                save_folder=Path(\".\"))\n",
    "model = load_pretrained_model(model, \"./runs/20231119_171415_FSB_BTS_UNet___24_batch_1_benign_malignant_normal/fold_0/model_20231119_171415_fold_0.tar\")"
   ]
  },
  {
   "cell_type": "code",
   "execution_count": 49,
   "id": "8e337101",
   "metadata": {
    "ExecuteTime": {
     "end_time": "2023-12-03T19:41:36.467702Z",
     "start_time": "2023-12-03T19:41:36.463703Z"
    }
   },
   "outputs": [],
   "source": [
    "# Directorio que contiene los datos de entrenamiento y validación\n",
    "data_dir = './Datasets/Dataset_BUSI_with_GT_postprocessed_128_uniques/'\n",
    "\n",
    "# Crear datasets para entrenamiento y validación\n",
    "transform = transforms.Compose([\n",
    "    transforms.Grayscale(num_output_channels=1),\n",
    "    transforms.ToTensor(),          # Convertir las imágenes a tensores\n",
    "])\n",
    "data = datasets.ImageFolder(data_dir, transform=transform)\n",
    "\n",
    "data_loader = DataLoader(data, batch_size=1, shuffle=False)"
   ]
  },
  {
   "cell_type": "code",
   "execution_count": 71,
   "id": "6d771733",
   "metadata": {
    "ExecuteTime": {
     "end_time": "2023-12-03T19:45:58.505612Z",
     "start_time": "2023-12-03T19:45:50.863851Z"
    }
   },
   "outputs": [],
   "source": [
    "for n, patient in enumerate(data_loader):\n",
    "    if n >=300:\n",
    "        break\n",
    "    seg_predicted = model(patient[0])[-1]\n",
    "    segmentation = torch.sigmoid(seg_predicted) > 0.5\n",
    "#     print(patient)"
   ]
  },
  {
   "cell_type": "code",
   "execution_count": 72,
   "id": "80a8a3b6",
   "metadata": {
    "ExecuteTime": {
     "end_time": "2023-12-03T19:45:59.370427Z",
     "start_time": "2023-12-03T19:45:59.327386Z"
    }
   },
   "outputs": [
    {
     "data": {
      "image/png": "[encoded data removed]",
      "text/plain": [
       "<Figure size 432x288 with 1 Axes>"
      ]
     },
     "metadata": {
      "needs_background": "light"
     },
     "output_type": "display_data"
    }
   ],
   "source": [
    "import matplotlib.pyplot as plt\n",
    "\n",
    "plt.imshow(segmentation.detach().numpy()[0, 0, :, :])\n",
    "plt.show()"
   ]
  },
  {
   "cell_type": "code",
   "execution_count": 61,
   "id": "33f9da27",
   "metadata": {
    "ExecuteTime": {
     "end_time": "2023-12-03T19:43:26.562107Z",
     "start_time": "2023-12-03T19:43:26.559255Z"
    }
   },
   "outputs": [
    {
     "data": {
      "text/plain": [
       "(128, 128)"
      ]
     },
     "execution_count": 61,
     "metadata": {},
     "output_type": "execute_result"
    }
   ],
   "source": [
    "seg_predicted[-1].detach().numpy()[0, 0, :, :]"
   ]
  },
  {
   "cell_type": "code",
   "execution_count": null,
   "id": "2785add2",
   "metadata": {},
   "outputs": [],
   "source": []
  }
 ],
 "metadata": {
  "hide_input": false,
  "kernelspec": {
   "display_name": "Python 3 (ipykernel)",
   "language": "python",
   "name": "python3"
  },
  "language_info": {
   "codemirror_mode": {
    "name": "ipython",
    "version": 3
   },
   "file_extension": ".py",
   "mimetype": "text/x-python",
   "name": "python",
   "nbconvert_exporter": "python",
   "pygments_lexer": "ipython3",
   "version": "3.9.12"
  },
  "toc": {
   "base_numbering": 1,
   "nav_menu": {},
   "number_sections": true,
   "sideBar": true,
   "skip_h1_title": false,
   "title_cell": "Table of Contents",
   "title_sidebar": "Contents",
   "toc_cell": false,
   "toc_position": {},
   "toc_section_display": true,
   "toc_window_display": false
  },
  "varInspector": {
   "cols": {
    "lenName": 16,
    "lenType": 16,
    "lenVar": 40
   },
   "kernels_config": {
    "python": {
     "delete_cmd_postfix": "",
     "delete_cmd_prefix": "del ",
     "library": "var_list.py",
     "varRefreshCmd": "print(var_dic_list())"
    },
    "r": {
     "delete_cmd_postfix": ") ",
     "delete_cmd_prefix": "rm(",
     "library": "var_list.r",
     "varRefreshCmd": "cat(var_dic_list()) "
    }
   },
   "types_to_exclude": [
    "module",
    "function",
    "builtin_function_or_method",
    "instance",
    "_Feature"
   ],
   "window_display": false
  }
 },
 "nbformat": 4,
 "nbformat_minor": 5
}
